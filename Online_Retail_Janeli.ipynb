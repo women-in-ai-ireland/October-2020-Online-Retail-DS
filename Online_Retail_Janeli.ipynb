{
  "nbformat": 4,
  "nbformat_minor": 0,
  "metadata": {
    "colab": {
      "name": "Online Retail Janeli.ipynb",
      "provenance": [],
      "include_colab_link": true
    },
    "kernelspec": {
      "name": "python3",
      "display_name": "Python 3"
    }
  },
  "cells": [
    {
      "cell_type": "markdown",
      "metadata": {
        "id": "view-in-github",
        "colab_type": "text"
      },
      "source": [
        "<a href=\"https://colab.research.google.com/github/women-in-ai-ireland/October-2020-WaiLEARN-004/blob/master/Online_Retail_Janeli.ipynb\" target=\"_parent\"><img src=\"https://colab.research.google.com/assets/colab-badge.svg\" alt=\"Open In Colab\"/></a>"
      ]
    },
    {
      "cell_type": "code",
      "metadata": {
        "id": "woviwnXd_4l1"
      },
      "source": [
        "# import library\n",
        "import pandas as pd\n",
        "from datetime import datetime #to fix the date\n",
        "import numpy as np\n",
        "import datetime as dt\n",
        "\n",
        "#For Data  Visualization\n",
        "import matplotlib.pyplot as plt\n",
        "import seaborn as sns"
      ],
      "execution_count": null,
      "outputs": []
    },
    {
      "cell_type": "markdown",
      "metadata": {
        "id": "WriDSAX_CYxP"
      },
      "source": [
        "\n",
        "2. Data insights\n",
        "\n",
        "*  The dataset has 541,909 rows and 8 columns\n",
        "*  The variables CustomerId and Description are the ones with the highest number of missing values.\n",
        "*  The average product price is 4.61 pounds (in the part where we run the \"**describe**\" code the *mean* is 4.61 )\n",
        "*  The following variables need to be converted in the next steps: CustomerId to object.\n",
        "\n",
        "\n",
        "\n",
        "\n",
        "\n"
      ]
    },
    {
      "cell_type": "markdown",
      "metadata": {
        "id": "NmFO3GkaEFNw"
      },
      "source": [
        ""
      ]
    },
    {
      "cell_type": "code",
      "metadata": {
        "colab": {
          "base_uri": "https://localhost:8080/",
          "height": 340
        },
        "id": "g0cUC8W3CvxZ",
        "outputId": "4f0a9c5b-8c1c-49ef-b5a6-dc6859903c1d"
      },
      "source": [
        "data = pd.read_excel('/content/Online_Retail.xlsx')\n",
        "data.head(5)\n",
        "  "
      ],
      "execution_count": null,
      "outputs": [
        {
          "output_type": "execute_result",
          "data": {
            "text/html": [
              "<div>\n",
              "<style scoped>\n",
              "    .dataframe tbody tr th:only-of-type {\n",
              "        vertical-align: middle;\n",
              "    }\n",
              "\n",
              "    .dataframe tbody tr th {\n",
              "        vertical-align: top;\n",
              "    }\n",
              "\n",
              "    .dataframe thead th {\n",
              "        text-align: right;\n",
              "    }\n",
              "</style>\n",
              "<table border=\"1\" class=\"dataframe\">\n",
              "  <thead>\n",
              "    <tr style=\"text-align: right;\">\n",
              "      <th></th>\n",
              "      <th>InvoiceNo</th>\n",
              "      <th>StockCode</th>\n",
              "      <th>Description</th>\n",
              "      <th>Quantity</th>\n",
              "      <th>InvoiceDate</th>\n",
              "      <th>UnitPrice</th>\n",
              "      <th>CustomerID</th>\n",
              "      <th>Country</th>\n",
              "    </tr>\n",
              "  </thead>\n",
              "  <tbody>\n",
              "    <tr>\n",
              "      <th>0</th>\n",
              "      <td>536365</td>\n",
              "      <td>85123A</td>\n",
              "      <td>WHITE HANGING HEART T-LIGHT HOLDER</td>\n",
              "      <td>6</td>\n",
              "      <td>2010-12-01 08:26:00</td>\n",
              "      <td>2.55</td>\n",
              "      <td>17850.0</td>\n",
              "      <td>United Kingdom</td>\n",
              "    </tr>\n",
              "    <tr>\n",
              "      <th>1</th>\n",
              "      <td>536365</td>\n",
              "      <td>71053</td>\n",
              "      <td>WHITE METAL LANTERN</td>\n",
              "      <td>6</td>\n",
              "      <td>2010-12-01 08:26:00</td>\n",
              "      <td>3.39</td>\n",
              "      <td>17850.0</td>\n",
              "      <td>United Kingdom</td>\n",
              "    </tr>\n",
              "    <tr>\n",
              "      <th>2</th>\n",
              "      <td>536365</td>\n",
              "      <td>84406B</td>\n",
              "      <td>CREAM CUPID HEARTS COAT HANGER</td>\n",
              "      <td>8</td>\n",
              "      <td>2010-12-01 08:26:00</td>\n",
              "      <td>2.75</td>\n",
              "      <td>17850.0</td>\n",
              "      <td>United Kingdom</td>\n",
              "    </tr>\n",
              "    <tr>\n",
              "      <th>3</th>\n",
              "      <td>536365</td>\n",
              "      <td>84029G</td>\n",
              "      <td>KNITTED UNION FLAG HOT WATER BOTTLE</td>\n",
              "      <td>6</td>\n",
              "      <td>2010-12-01 08:26:00</td>\n",
              "      <td>3.39</td>\n",
              "      <td>17850.0</td>\n",
              "      <td>United Kingdom</td>\n",
              "    </tr>\n",
              "    <tr>\n",
              "      <th>4</th>\n",
              "      <td>536365</td>\n",
              "      <td>84029E</td>\n",
              "      <td>RED WOOLLY HOTTIE WHITE HEART.</td>\n",
              "      <td>6</td>\n",
              "      <td>2010-12-01 08:26:00</td>\n",
              "      <td>3.39</td>\n",
              "      <td>17850.0</td>\n",
              "      <td>United Kingdom</td>\n",
              "    </tr>\n",
              "  </tbody>\n",
              "</table>\n",
              "</div>"
            ],
            "text/plain": [
              "  InvoiceNo StockCode  ... CustomerID         Country\n",
              "0    536365    85123A  ...    17850.0  United Kingdom\n",
              "1    536365     71053  ...    17850.0  United Kingdom\n",
              "2    536365    84406B  ...    17850.0  United Kingdom\n",
              "3    536365    84029G  ...    17850.0  United Kingdom\n",
              "4    536365    84029E  ...    17850.0  United Kingdom\n",
              "\n",
              "[5 rows x 8 columns]"
            ]
          },
          "metadata": {
            "tags": []
          },
          "execution_count": 2
        }
      ]
    },
    {
      "cell_type": "code",
      "metadata": {
        "id": "pMq-hyBGGRDa",
        "colab": {
          "base_uri": "https://localhost:8080/",
          "height": 391
        },
        "outputId": "31a409e1-cc63-499d-f89a-66c8cac8bc7d"
      },
      "source": [
        "data.tail(5)"
      ],
      "execution_count": null,
      "outputs": [
        {
          "output_type": "execute_result",
          "data": {
            "text/html": [
              "<div>\n",
              "<style scoped>\n",
              "    .dataframe tbody tr th:only-of-type {\n",
              "        vertical-align: middle;\n",
              "    }\n",
              "\n",
              "    .dataframe tbody tr th {\n",
              "        vertical-align: top;\n",
              "    }\n",
              "\n",
              "    .dataframe thead th {\n",
              "        text-align: right;\n",
              "    }\n",
              "</style>\n",
              "<table border=\"1\" class=\"dataframe\">\n",
              "  <thead>\n",
              "    <tr style=\"text-align: right;\">\n",
              "      <th></th>\n",
              "      <th>InvoiceNo</th>\n",
              "      <th>StockCode</th>\n",
              "      <th>Description</th>\n",
              "      <th>Quantity</th>\n",
              "      <th>InvoiceDate</th>\n",
              "      <th>UnitPrice</th>\n",
              "      <th>CustomerID</th>\n",
              "      <th>Country</th>\n",
              "    </tr>\n",
              "  </thead>\n",
              "  <tbody>\n",
              "    <tr>\n",
              "      <th>541904</th>\n",
              "      <td>581587</td>\n",
              "      <td>22613</td>\n",
              "      <td>PACK OF 20 SPACEBOY NAPKINS</td>\n",
              "      <td>12</td>\n",
              "      <td>2011-12-09 12:50:00</td>\n",
              "      <td>0.85</td>\n",
              "      <td>12680.0</td>\n",
              "      <td>France</td>\n",
              "    </tr>\n",
              "    <tr>\n",
              "      <th>541905</th>\n",
              "      <td>581587</td>\n",
              "      <td>22899</td>\n",
              "      <td>CHILDREN'S APRON DOLLY GIRL</td>\n",
              "      <td>6</td>\n",
              "      <td>2011-12-09 12:50:00</td>\n",
              "      <td>2.10</td>\n",
              "      <td>12680.0</td>\n",
              "      <td>France</td>\n",
              "    </tr>\n",
              "    <tr>\n",
              "      <th>541906</th>\n",
              "      <td>581587</td>\n",
              "      <td>23254</td>\n",
              "      <td>CHILDRENS CUTLERY DOLLY GIRL</td>\n",
              "      <td>4</td>\n",
              "      <td>2011-12-09 12:50:00</td>\n",
              "      <td>4.15</td>\n",
              "      <td>12680.0</td>\n",
              "      <td>France</td>\n",
              "    </tr>\n",
              "    <tr>\n",
              "      <th>541907</th>\n",
              "      <td>581587</td>\n",
              "      <td>23255</td>\n",
              "      <td>CHILDRENS CUTLERY CIRCUS PARADE</td>\n",
              "      <td>4</td>\n",
              "      <td>2011-12-09 12:50:00</td>\n",
              "      <td>4.15</td>\n",
              "      <td>12680.0</td>\n",
              "      <td>France</td>\n",
              "    </tr>\n",
              "    <tr>\n",
              "      <th>541908</th>\n",
              "      <td>581587</td>\n",
              "      <td>22138</td>\n",
              "      <td>BAKING SET 9 PIECE RETROSPOT</td>\n",
              "      <td>3</td>\n",
              "      <td>2011-12-09 12:50:00</td>\n",
              "      <td>4.95</td>\n",
              "      <td>12680.0</td>\n",
              "      <td>France</td>\n",
              "    </tr>\n",
              "  </tbody>\n",
              "</table>\n",
              "</div>"
            ],
            "text/plain": [
              "       InvoiceNo StockCode  ... CustomerID  Country\n",
              "541904    581587     22613  ...    12680.0   France\n",
              "541905    581587     22899  ...    12680.0   France\n",
              "541906    581587     23254  ...    12680.0   France\n",
              "541907    581587     23255  ...    12680.0   France\n",
              "541908    581587     22138  ...    12680.0   France\n",
              "\n",
              "[5 rows x 8 columns]"
            ]
          },
          "metadata": {
            "tags": []
          },
          "execution_count": 3
        }
      ]
    },
    {
      "cell_type": "code",
      "metadata": {
        "id": "0xIScb9vGdnE",
        "colab": {
          "base_uri": "https://localhost:8080/"
        },
        "outputId": "16972bc9-6184-4184-9930-1a8d62a618fa"
      },
      "source": [
        "data.isnull().sum()"
      ],
      "execution_count": null,
      "outputs": [
        {
          "output_type": "execute_result",
          "data": {
            "text/plain": [
              "InvoiceNo           0\n",
              "StockCode           0\n",
              "Description      1454\n",
              "Quantity            0\n",
              "InvoiceDate         0\n",
              "UnitPrice           0\n",
              "CustomerID     135080\n",
              "Country             0\n",
              "dtype: int64"
            ]
          },
          "metadata": {
            "tags": []
          },
          "execution_count": 4
        }
      ]
    },
    {
      "cell_type": "markdown",
      "metadata": {
        "id": "SdMUo5wdDrQx"
      },
      "source": [
        "# ***1***. Libraries that needed to be imported to read and create visualizations ***bold text***\n",
        "\n",
        "\n",
        "\n",
        "\n",
        "---\n",
        "\n",
        "\n",
        "\n",
        "---\n",
        "\n",
        "bold text\n",
        "\n",
        "\n"
      ]
    },
    {
      "cell_type": "code",
      "metadata": {
        "id": "UyXQgdZhY2sb",
        "colab": {
          "base_uri": "https://localhost:8080/"
        },
        "outputId": "8276ca34-a1a7-4f27-aa49-8003213e08c4"
      },
      "source": [
        "data.info()"
      ],
      "execution_count": null,
      "outputs": [
        {
          "output_type": "stream",
          "text": [
            "<class 'pandas.core.frame.DataFrame'>\n",
            "RangeIndex: 541909 entries, 0 to 541908\n",
            "Data columns (total 8 columns):\n",
            " #   Column       Non-Null Count   Dtype         \n",
            "---  ------       --------------   -----         \n",
            " 0   InvoiceNo    541909 non-null  object        \n",
            " 1   StockCode    541909 non-null  object        \n",
            " 2   Description  540455 non-null  object        \n",
            " 3   Quantity     541909 non-null  int64         \n",
            " 4   InvoiceDate  541909 non-null  datetime64[ns]\n",
            " 5   UnitPrice    541909 non-null  float64       \n",
            " 6   CustomerID   406829 non-null  float64       \n",
            " 7   Country      541909 non-null  object        \n",
            "dtypes: datetime64[ns](1), float64(2), int64(1), object(4)\n",
            "memory usage: 33.1+ MB\n"
          ],
          "name": "stdout"
        }
      ]
    },
    {
      "cell_type": "code",
      "metadata": {
        "id": "GS1hWmzTDa2a",
        "colab": {
          "base_uri": "https://localhost:8080/",
          "height": 297
        },
        "outputId": "2fbcb1dd-e239-42a7-c73b-5fdd67d52568"
      },
      "source": [
        "data.describe()"
      ],
      "execution_count": null,
      "outputs": [
        {
          "output_type": "execute_result",
          "data": {
            "text/html": [
              "<div>\n",
              "<style scoped>\n",
              "    .dataframe tbody tr th:only-of-type {\n",
              "        vertical-align: middle;\n",
              "    }\n",
              "\n",
              "    .dataframe tbody tr th {\n",
              "        vertical-align: top;\n",
              "    }\n",
              "\n",
              "    .dataframe thead th {\n",
              "        text-align: right;\n",
              "    }\n",
              "</style>\n",
              "<table border=\"1\" class=\"dataframe\">\n",
              "  <thead>\n",
              "    <tr style=\"text-align: right;\">\n",
              "      <th></th>\n",
              "      <th>Quantity</th>\n",
              "      <th>UnitPrice</th>\n",
              "      <th>CustomerID</th>\n",
              "    </tr>\n",
              "  </thead>\n",
              "  <tbody>\n",
              "    <tr>\n",
              "      <th>count</th>\n",
              "      <td>541909.000000</td>\n",
              "      <td>541909.000000</td>\n",
              "      <td>406829.000000</td>\n",
              "    </tr>\n",
              "    <tr>\n",
              "      <th>mean</th>\n",
              "      <td>9.552250</td>\n",
              "      <td>4.611114</td>\n",
              "      <td>15287.690570</td>\n",
              "    </tr>\n",
              "    <tr>\n",
              "      <th>std</th>\n",
              "      <td>218.081158</td>\n",
              "      <td>96.759853</td>\n",
              "      <td>1713.600303</td>\n",
              "    </tr>\n",
              "    <tr>\n",
              "      <th>min</th>\n",
              "      <td>-80995.000000</td>\n",
              "      <td>-11062.060000</td>\n",
              "      <td>12346.000000</td>\n",
              "    </tr>\n",
              "    <tr>\n",
              "      <th>25%</th>\n",
              "      <td>1.000000</td>\n",
              "      <td>1.250000</td>\n",
              "      <td>13953.000000</td>\n",
              "    </tr>\n",
              "    <tr>\n",
              "      <th>50%</th>\n",
              "      <td>3.000000</td>\n",
              "      <td>2.080000</td>\n",
              "      <td>15152.000000</td>\n",
              "    </tr>\n",
              "    <tr>\n",
              "      <th>75%</th>\n",
              "      <td>10.000000</td>\n",
              "      <td>4.130000</td>\n",
              "      <td>16791.000000</td>\n",
              "    </tr>\n",
              "    <tr>\n",
              "      <th>max</th>\n",
              "      <td>80995.000000</td>\n",
              "      <td>38970.000000</td>\n",
              "      <td>18287.000000</td>\n",
              "    </tr>\n",
              "  </tbody>\n",
              "</table>\n",
              "</div>"
            ],
            "text/plain": [
              "            Quantity      UnitPrice     CustomerID\n",
              "count  541909.000000  541909.000000  406829.000000\n",
              "mean        9.552250       4.611114   15287.690570\n",
              "std       218.081158      96.759853    1713.600303\n",
              "min    -80995.000000  -11062.060000   12346.000000\n",
              "25%         1.000000       1.250000   13953.000000\n",
              "50%         3.000000       2.080000   15152.000000\n",
              "75%        10.000000       4.130000   16791.000000\n",
              "max     80995.000000   38970.000000   18287.000000"
            ]
          },
          "metadata": {
            "tags": []
          },
          "execution_count": 6
        }
      ]
    },
    {
      "cell_type": "markdown",
      "metadata": {
        "id": "7ibv9TD5EVDG"
      },
      "source": [
        "3. Data Manipulation\n",
        "\n",
        "\n",
        "\n",
        "*   Drop the raws with null values \n",
        "*   Convert **Invoice Date** to datetime64 and **CustomerID **  to object\n",
        "\n"
      ]
    },
    {
      "cell_type": "code",
      "metadata": {
        "id": "9P31LZ3XONHJ"
      },
      "source": [
        "data = data.dropna(subset=['CustomerID'])"
      ],
      "execution_count": null,
      "outputs": []
    },
    {
      "cell_type": "code",
      "metadata": {
        "id": "TNfoeg9El6gS"
      },
      "source": [
        "data1 = data.dropna(subset=['CustomerID'])"
      ],
      "execution_count": null,
      "outputs": []
    },
    {
      "cell_type": "code",
      "metadata": {
        "id": "fjNup0CbO0w0",
        "colab": {
          "base_uri": "https://localhost:8080/"
        },
        "outputId": "bbae152e-1b12-4429-a5ed-e5d055a25a26"
      },
      "source": [
        "data.isnull().sum().sum()"
      ],
      "execution_count": null,
      "outputs": [
        {
          "output_type": "execute_result",
          "data": {
            "text/plain": [
              "0"
            ]
          },
          "metadata": {
            "tags": []
          },
          "execution_count": 9
        }
      ]
    },
    {
      "cell_type": "code",
      "metadata": {
        "id": "086-flrYSsEa",
        "colab": {
          "base_uri": "https://localhost:8080/"
        },
        "outputId": "d24bbffc-d31c-4c23-8d5e-d3f699ca99a3"
      },
      "source": [
        "data.shape"
      ],
      "execution_count": null,
      "outputs": [
        {
          "output_type": "execute_result",
          "data": {
            "text/plain": [
              "(406829, 8)"
            ]
          },
          "metadata": {
            "tags": []
          },
          "execution_count": 10
        }
      ]
    },
    {
      "cell_type": "code",
      "metadata": {
        "id": "sEnoeycKZdlO"
      },
      "source": [
        "data['InvoiceDate'] = pd.to_datetime(data.InvoiceDate)"
      ],
      "execution_count": null,
      "outputs": []
    },
    {
      "cell_type": "code",
      "metadata": {
        "id": "bgWvLb6yagGC"
      },
      "source": [
        "data['CustomerID'] = data ['CustomerID']. astype (str)"
      ],
      "execution_count": null,
      "outputs": []
    },
    {
      "cell_type": "code",
      "metadata": {
        "id": "5-C7fuT2bD8h",
        "colab": {
          "base_uri": "https://localhost:8080/"
        },
        "outputId": "a02a0c1a-6868-4d09-ecd6-7dbcca29af20"
      },
      "source": [
        "data.info()"
      ],
      "execution_count": null,
      "outputs": [
        {
          "output_type": "stream",
          "text": [
            "<class 'pandas.core.frame.DataFrame'>\n",
            "Int64Index: 406829 entries, 0 to 541908\n",
            "Data columns (total 8 columns):\n",
            " #   Column       Non-Null Count   Dtype         \n",
            "---  ------       --------------   -----         \n",
            " 0   InvoiceNo    406829 non-null  object        \n",
            " 1   StockCode    406829 non-null  object        \n",
            " 2   Description  406829 non-null  object        \n",
            " 3   Quantity     406829 non-null  int64         \n",
            " 4   InvoiceDate  406829 non-null  datetime64[ns]\n",
            " 5   UnitPrice    406829 non-null  float64       \n",
            " 6   CustomerID   406829 non-null  object        \n",
            " 7   Country      406829 non-null  object        \n",
            "dtypes: datetime64[ns](1), float64(1), int64(1), object(5)\n",
            "memory usage: 27.9+ MB\n"
          ],
          "name": "stdout"
        }
      ]
    },
    {
      "cell_type": "code",
      "metadata": {
        "id": "V1xS-3_X66Oe",
        "colab": {
          "base_uri": "https://localhost:8080/"
        },
        "outputId": "2661418b-6d76-4f01-d4df-691b09d85cb8"
      },
      "source": [
        "data['Quantity'] * data['UnitPrice']"
      ],
      "execution_count": null,
      "outputs": [
        {
          "output_type": "execute_result",
          "data": {
            "text/plain": [
              "0         15.30\n",
              "1         20.34\n",
              "2         22.00\n",
              "3         20.34\n",
              "4         20.34\n",
              "          ...  \n",
              "541904    10.20\n",
              "541905    12.60\n",
              "541906    16.60\n",
              "541907    16.60\n",
              "541908    14.85\n",
              "Length: 406829, dtype: float64"
            ]
          },
          "metadata": {
            "tags": []
          },
          "execution_count": 14
        }
      ]
    },
    {
      "cell_type": "code",
      "metadata": {
        "id": "2jQGWwKr7LMX"
      },
      "source": [
        "data ['Total Price'] = data['Quantity'] * data['UnitPrice']"
      ],
      "execution_count": null,
      "outputs": []
    },
    {
      "cell_type": "code",
      "metadata": {
        "id": "vtEwbrCk7Yin",
        "colab": {
          "base_uri": "https://localhost:8080/",
          "height": 233
        },
        "outputId": "5e8be69a-a0f4-44cf-80ad-667f239ee09f"
      },
      "source": [
        "data.head(2)"
      ],
      "execution_count": null,
      "outputs": [
        {
          "output_type": "execute_result",
          "data": {
            "text/html": [
              "<div>\n",
              "<style scoped>\n",
              "    .dataframe tbody tr th:only-of-type {\n",
              "        vertical-align: middle;\n",
              "    }\n",
              "\n",
              "    .dataframe tbody tr th {\n",
              "        vertical-align: top;\n",
              "    }\n",
              "\n",
              "    .dataframe thead th {\n",
              "        text-align: right;\n",
              "    }\n",
              "</style>\n",
              "<table border=\"1\" class=\"dataframe\">\n",
              "  <thead>\n",
              "    <tr style=\"text-align: right;\">\n",
              "      <th></th>\n",
              "      <th>InvoiceNo</th>\n",
              "      <th>StockCode</th>\n",
              "      <th>Description</th>\n",
              "      <th>Quantity</th>\n",
              "      <th>InvoiceDate</th>\n",
              "      <th>UnitPrice</th>\n",
              "      <th>CustomerID</th>\n",
              "      <th>Country</th>\n",
              "      <th>Total Price</th>\n",
              "    </tr>\n",
              "  </thead>\n",
              "  <tbody>\n",
              "    <tr>\n",
              "      <th>0</th>\n",
              "      <td>536365</td>\n",
              "      <td>85123A</td>\n",
              "      <td>WHITE HANGING HEART T-LIGHT HOLDER</td>\n",
              "      <td>6</td>\n",
              "      <td>2010-12-01 08:26:00</td>\n",
              "      <td>2.55</td>\n",
              "      <td>17850.0</td>\n",
              "      <td>United Kingdom</td>\n",
              "      <td>15.30</td>\n",
              "    </tr>\n",
              "    <tr>\n",
              "      <th>1</th>\n",
              "      <td>536365</td>\n",
              "      <td>71053</td>\n",
              "      <td>WHITE METAL LANTERN</td>\n",
              "      <td>6</td>\n",
              "      <td>2010-12-01 08:26:00</td>\n",
              "      <td>3.39</td>\n",
              "      <td>17850.0</td>\n",
              "      <td>United Kingdom</td>\n",
              "      <td>20.34</td>\n",
              "    </tr>\n",
              "  </tbody>\n",
              "</table>\n",
              "</div>"
            ],
            "text/plain": [
              "  InvoiceNo StockCode  ...         Country  Total Price\n",
              "0    536365    85123A  ...  United Kingdom        15.30\n",
              "1    536365     71053  ...  United Kingdom        20.34\n",
              "\n",
              "[2 rows x 9 columns]"
            ]
          },
          "metadata": {
            "tags": []
          },
          "execution_count": 16
        }
      ]
    },
    {
      "cell_type": "code",
      "metadata": {
        "id": "ygwUl3Vmi2I8",
        "colab": {
          "base_uri": "https://localhost:8080/",
          "height": 204
        },
        "outputId": "e4d6013f-ffa6-47cb-f143-bdf171423144"
      },
      "source": [
        "df = data.groupby('Country', as_index= False).InvoiceNo.count().sort_values(by= 'InvoiceNo',ascending=False)\n",
        "df.head(5)"
      ],
      "execution_count": null,
      "outputs": [
        {
          "output_type": "execute_result",
          "data": {
            "text/html": [
              "<div>\n",
              "<style scoped>\n",
              "    .dataframe tbody tr th:only-of-type {\n",
              "        vertical-align: middle;\n",
              "    }\n",
              "\n",
              "    .dataframe tbody tr th {\n",
              "        vertical-align: top;\n",
              "    }\n",
              "\n",
              "    .dataframe thead th {\n",
              "        text-align: right;\n",
              "    }\n",
              "</style>\n",
              "<table border=\"1\" class=\"dataframe\">\n",
              "  <thead>\n",
              "    <tr style=\"text-align: right;\">\n",
              "      <th></th>\n",
              "      <th>Country</th>\n",
              "      <th>InvoiceNo</th>\n",
              "    </tr>\n",
              "  </thead>\n",
              "  <tbody>\n",
              "    <tr>\n",
              "      <th>35</th>\n",
              "      <td>United Kingdom</td>\n",
              "      <td>361878</td>\n",
              "    </tr>\n",
              "    <tr>\n",
              "      <th>14</th>\n",
              "      <td>Germany</td>\n",
              "      <td>9495</td>\n",
              "    </tr>\n",
              "    <tr>\n",
              "      <th>13</th>\n",
              "      <td>France</td>\n",
              "      <td>8491</td>\n",
              "    </tr>\n",
              "    <tr>\n",
              "      <th>10</th>\n",
              "      <td>EIRE</td>\n",
              "      <td>7485</td>\n",
              "    </tr>\n",
              "    <tr>\n",
              "      <th>30</th>\n",
              "      <td>Spain</td>\n",
              "      <td>2533</td>\n",
              "    </tr>\n",
              "  </tbody>\n",
              "</table>\n",
              "</div>"
            ],
            "text/plain": [
              "           Country  InvoiceNo\n",
              "35  United Kingdom     361878\n",
              "14         Germany       9495\n",
              "13          France       8491\n",
              "10            EIRE       7485\n",
              "30           Spain       2533"
            ]
          },
          "metadata": {
            "tags": []
          },
          "execution_count": 17
        }
      ]
    },
    {
      "cell_type": "code",
      "metadata": {
        "id": "2RFsQYZZTVA8",
        "colab": {
          "base_uri": "https://localhost:8080/",
          "height": 204
        },
        "outputId": "21b555ab-1f5a-47e5-89c8-0ad5efac3fde"
      },
      "source": [
        "df = data.groupby('Country', as_index= False).Quantity.sum().sort_values(by= 'Quantity',ascending=False)\n",
        "df.head(5)"
      ],
      "execution_count": null,
      "outputs": [
        {
          "output_type": "execute_result",
          "data": {
            "text/html": [
              "<div>\n",
              "<style scoped>\n",
              "    .dataframe tbody tr th:only-of-type {\n",
              "        vertical-align: middle;\n",
              "    }\n",
              "\n",
              "    .dataframe tbody tr th {\n",
              "        vertical-align: top;\n",
              "    }\n",
              "\n",
              "    .dataframe thead th {\n",
              "        text-align: right;\n",
              "    }\n",
              "</style>\n",
              "<table border=\"1\" class=\"dataframe\">\n",
              "  <thead>\n",
              "    <tr style=\"text-align: right;\">\n",
              "      <th></th>\n",
              "      <th>Country</th>\n",
              "      <th>Quantity</th>\n",
              "    </tr>\n",
              "  </thead>\n",
              "  <tbody>\n",
              "    <tr>\n",
              "      <th>35</th>\n",
              "      <td>United Kingdom</td>\n",
              "      <td>4008533</td>\n",
              "    </tr>\n",
              "    <tr>\n",
              "      <th>23</th>\n",
              "      <td>Netherlands</td>\n",
              "      <td>200128</td>\n",
              "    </tr>\n",
              "    <tr>\n",
              "      <th>10</th>\n",
              "      <td>EIRE</td>\n",
              "      <td>136329</td>\n",
              "    </tr>\n",
              "    <tr>\n",
              "      <th>14</th>\n",
              "      <td>Germany</td>\n",
              "      <td>117448</td>\n",
              "    </tr>\n",
              "    <tr>\n",
              "      <th>13</th>\n",
              "      <td>France</td>\n",
              "      <td>109848</td>\n",
              "    </tr>\n",
              "  </tbody>\n",
              "</table>\n",
              "</div>"
            ],
            "text/plain": [
              "           Country  Quantity\n",
              "35  United Kingdom   4008533\n",
              "23     Netherlands    200128\n",
              "10            EIRE    136329\n",
              "14         Germany    117448\n",
              "13          France    109848"
            ]
          },
          "metadata": {
            "tags": []
          },
          "execution_count": 18
        }
      ]
    },
    {
      "cell_type": "markdown",
      "metadata": {
        "id": "hCyNSMNKDJFY"
      },
      "source": [
        "The 10 countries with the highest number of sales"
      ]
    },
    {
      "cell_type": "code",
      "metadata": {
        "id": "bnyEj0Okzm3E",
        "colab": {
          "base_uri": "https://localhost:8080/",
          "height": 359
        },
        "outputId": "8812256e-e821-4e74-b136-0ffed0c77db7"
      },
      "source": [
        "df = data.groupby('Country', as_index= False).agg({'InvoiceNo': pd.Series.count, 'Quantity': pd.Series.sum, 'Total Price':pd.Series.sum,}).sort_values(by= 'InvoiceNo',ascending=False)\n",
        "df.head(10)\n"
      ],
      "execution_count": null,
      "outputs": [
        {
          "output_type": "execute_result",
          "data": {
            "text/html": [
              "<div>\n",
              "<style scoped>\n",
              "    .dataframe tbody tr th:only-of-type {\n",
              "        vertical-align: middle;\n",
              "    }\n",
              "\n",
              "    .dataframe tbody tr th {\n",
              "        vertical-align: top;\n",
              "    }\n",
              "\n",
              "    .dataframe thead th {\n",
              "        text-align: right;\n",
              "    }\n",
              "</style>\n",
              "<table border=\"1\" class=\"dataframe\">\n",
              "  <thead>\n",
              "    <tr style=\"text-align: right;\">\n",
              "      <th></th>\n",
              "      <th>Country</th>\n",
              "      <th>InvoiceNo</th>\n",
              "      <th>Quantity</th>\n",
              "      <th>Total Price</th>\n",
              "    </tr>\n",
              "  </thead>\n",
              "  <tbody>\n",
              "    <tr>\n",
              "      <th>35</th>\n",
              "      <td>United Kingdom</td>\n",
              "      <td>361878</td>\n",
              "      <td>4008533</td>\n",
              "      <td>6767873.394</td>\n",
              "    </tr>\n",
              "    <tr>\n",
              "      <th>14</th>\n",
              "      <td>Germany</td>\n",
              "      <td>9495</td>\n",
              "      <td>117448</td>\n",
              "      <td>221698.210</td>\n",
              "    </tr>\n",
              "    <tr>\n",
              "      <th>13</th>\n",
              "      <td>France</td>\n",
              "      <td>8491</td>\n",
              "      <td>109848</td>\n",
              "      <td>196712.840</td>\n",
              "    </tr>\n",
              "    <tr>\n",
              "      <th>10</th>\n",
              "      <td>EIRE</td>\n",
              "      <td>7485</td>\n",
              "      <td>136329</td>\n",
              "      <td>250285.220</td>\n",
              "    </tr>\n",
              "    <tr>\n",
              "      <th>30</th>\n",
              "      <td>Spain</td>\n",
              "      <td>2533</td>\n",
              "      <td>26824</td>\n",
              "      <td>54774.580</td>\n",
              "    </tr>\n",
              "    <tr>\n",
              "      <th>23</th>\n",
              "      <td>Netherlands</td>\n",
              "      <td>2371</td>\n",
              "      <td>200128</td>\n",
              "      <td>284661.540</td>\n",
              "    </tr>\n",
              "    <tr>\n",
              "      <th>3</th>\n",
              "      <td>Belgium</td>\n",
              "      <td>2069</td>\n",
              "      <td>23152</td>\n",
              "      <td>40910.960</td>\n",
              "    </tr>\n",
              "    <tr>\n",
              "      <th>32</th>\n",
              "      <td>Switzerland</td>\n",
              "      <td>1877</td>\n",
              "      <td>29778</td>\n",
              "      <td>55739.400</td>\n",
              "    </tr>\n",
              "    <tr>\n",
              "      <th>26</th>\n",
              "      <td>Portugal</td>\n",
              "      <td>1480</td>\n",
              "      <td>16044</td>\n",
              "      <td>29059.810</td>\n",
              "    </tr>\n",
              "    <tr>\n",
              "      <th>0</th>\n",
              "      <td>Australia</td>\n",
              "      <td>1259</td>\n",
              "      <td>83653</td>\n",
              "      <td>137077.270</td>\n",
              "    </tr>\n",
              "  </tbody>\n",
              "</table>\n",
              "</div>"
            ],
            "text/plain": [
              "           Country  InvoiceNo  Quantity  Total Price\n",
              "35  United Kingdom     361878   4008533  6767873.394\n",
              "14         Germany       9495    117448   221698.210\n",
              "13          France       8491    109848   196712.840\n",
              "10            EIRE       7485    136329   250285.220\n",
              "30           Spain       2533     26824    54774.580\n",
              "23     Netherlands       2371    200128   284661.540\n",
              "3          Belgium       2069     23152    40910.960\n",
              "32     Switzerland       1877     29778    55739.400\n",
              "26        Portugal       1480     16044    29059.810\n",
              "0        Australia       1259     83653   137077.270"
            ]
          },
          "metadata": {
            "tags": []
          },
          "execution_count": 19
        }
      ]
    },
    {
      "cell_type": "code",
      "metadata": {
        "colab": {
          "base_uri": "https://localhost:8080/",
          "height": 295
        },
        "id": "8LUEg1zIirtj",
        "outputId": "8e676926-6b07-471c-c38d-b9b6dc8cf458"
      },
      "source": [
        "df = data.groupby('Country', as_index= False).InvoiceNo.count().sort_values(by= 'InvoiceNo',ascending=False)\n",
        "#Plot The 10 countries with the highest number of sale\n",
        "sns.barplot(x='Country', y='InvoiceNo', data= df.head(10))\n",
        "plt.title('The 10 countries with the highest number of sale')\n",
        "plt.show()"
      ],
      "execution_count": null,
      "outputs": [
        {
          "output_type": "display_data",
          "data": {
            "image/png": "[encoded data removed]",
            "text/plain": [
              "<Figure size 432x288 with 1 Axes>"
            ]
          },
          "metadata": {
            "tags": [],
            "needs_background": "light"
          }
        }
      ]
    },
    {
      "cell_type": "code",
      "metadata": {
        "id": "TgRZdTR9R0s9",
        "colab": {
          "base_uri": "https://localhost:8080/",
          "height": 359
        },
        "outputId": "5dd89b23-3b1d-48ee-9307-a7822e6dd8ff"
      },
      "source": [
        "df = data.groupby('Description', as_index= False).Quantity.sum().sort_values(by= 'Quantity',ascending=False)\n",
        "df.head(10)"
      ],
      "execution_count": null,
      "outputs": [
        {
          "output_type": "execute_result",
          "data": {
            "text/html": [
              "<div>\n",
              "<style scoped>\n",
              "    .dataframe tbody tr th:only-of-type {\n",
              "        vertical-align: middle;\n",
              "    }\n",
              "\n",
              "    .dataframe tbody tr th {\n",
              "        vertical-align: top;\n",
              "    }\n",
              "\n",
              "    .dataframe thead th {\n",
              "        text-align: right;\n",
              "    }\n",
              "</style>\n",
              "<table border=\"1\" class=\"dataframe\">\n",
              "  <thead>\n",
              "    <tr style=\"text-align: right;\">\n",
              "      <th></th>\n",
              "      <th>Description</th>\n",
              "      <th>Quantity</th>\n",
              "    </tr>\n",
              "  </thead>\n",
              "  <tbody>\n",
              "    <tr>\n",
              "      <th>3805</th>\n",
              "      <td>WORLD WAR 2 GLIDERS ASSTD DESIGNS</td>\n",
              "      <td>53215</td>\n",
              "    </tr>\n",
              "    <tr>\n",
              "      <th>1771</th>\n",
              "      <td>JUMBO BAG RED RETROSPOT</td>\n",
              "      <td>45066</td>\n",
              "    </tr>\n",
              "    <tr>\n",
              "      <th>217</th>\n",
              "      <td>ASSORTED COLOUR BIRD ORNAMENT</td>\n",
              "      <td>35314</td>\n",
              "    </tr>\n",
              "    <tr>\n",
              "      <th>3716</th>\n",
              "      <td>WHITE HANGING HEART T-LIGHT HOLDER</td>\n",
              "      <td>34147</td>\n",
              "    </tr>\n",
              "    <tr>\n",
              "      <th>2279</th>\n",
              "      <td>PACK OF 72 RETROSPOT CAKE CASES</td>\n",
              "      <td>33409</td>\n",
              "    </tr>\n",
              "    <tr>\n",
              "      <th>2612</th>\n",
              "      <td>POPCORN HOLDER</td>\n",
              "      <td>30504</td>\n",
              "    </tr>\n",
              "    <tr>\n",
              "      <th>2669</th>\n",
              "      <td>RABBIT NIGHT LIGHT</td>\n",
              "      <td>27094</td>\n",
              "    </tr>\n",
              "    <tr>\n",
              "      <th>2057</th>\n",
              "      <td>MINI PAINT SET VINTAGE</td>\n",
              "      <td>25880</td>\n",
              "    </tr>\n",
              "    <tr>\n",
              "      <th>2245</th>\n",
              "      <td>PACK OF 12 LONDON TISSUES</td>\n",
              "      <td>25321</td>\n",
              "    </tr>\n",
              "    <tr>\n",
              "      <th>2277</th>\n",
              "      <td>PACK OF 60 PINK PAISLEY CAKE CASES</td>\n",
              "      <td>24163</td>\n",
              "    </tr>\n",
              "  </tbody>\n",
              "</table>\n",
              "</div>"
            ],
            "text/plain": [
              "                             Description  Quantity\n",
              "3805   WORLD WAR 2 GLIDERS ASSTD DESIGNS     53215\n",
              "1771             JUMBO BAG RED RETROSPOT     45066\n",
              "217        ASSORTED COLOUR BIRD ORNAMENT     35314\n",
              "3716  WHITE HANGING HEART T-LIGHT HOLDER     34147\n",
              "2279     PACK OF 72 RETROSPOT CAKE CASES     33409\n",
              "2612                      POPCORN HOLDER     30504\n",
              "2669                  RABBIT NIGHT LIGHT     27094\n",
              "2057             MINI PAINT SET VINTAGE      25880\n",
              "2245          PACK OF 12 LONDON TISSUES      25321\n",
              "2277  PACK OF 60 PINK PAISLEY CAKE CASES     24163"
            ]
          },
          "metadata": {
            "tags": []
          },
          "execution_count": 21
        }
      ]
    },
    {
      "cell_type": "code",
      "metadata": {
        "id": "AqAE7ROCL5ma",
        "colab": {
          "base_uri": "https://localhost:8080/",
          "height": 295
        },
        "outputId": "4d65c404-7f3a-459e-f63b-224d591742f7"
      },
      "source": [
        "df = data.groupby('Description', as_index= False).Quantity.sum().sort_values(by= 'Quantity',ascending=False)\n",
        "#Plot the 10 most sold items\n",
        "sns.barplot(x='Quantity', y='Description', data= df.head(10))\n",
        "plt.title('Top 10 sold items')\n",
        "plt.show()"
      ],
      "execution_count": null,
      "outputs": [
        {
          "output_type": "display_data",
          "data": {
            "image/png": "[encoded data removed]",
            "text/plain": [
              "<Figure size 432x288 with 1 Axes>"
            ]
          },
          "metadata": {
            "tags": [],
            "needs_background": "light"
          }
        }
      ]
    },
    {
      "cell_type": "code",
      "metadata": {
        "id": "e4kpxdkic_RP"
      },
      "source": [
        ""
      ],
      "execution_count": null,
      "outputs": []
    },
    {
      "cell_type": "markdown",
      "metadata": {
        "id": "wPL-RoNRbhP_"
      },
      "source": [
        "COHORT ANALYSIS"
      ]
    },
    {
      "cell_type": "code",
      "metadata": {
        "id": "mgg0YJOobvL6"
      },
      "source": [
        "#Create a copy of the data for the cohort analysis\n",
        "cohort = data1.copy() "
      ],
      "execution_count": null,
      "outputs": []
    },
    {
      "cell_type": "markdown",
      "metadata": {
        "id": "ClC0f2SsvS93"
      },
      "source": [
        "Converting string variable to date time"
      ]
    },
    {
      "cell_type": "code",
      "metadata": {
        "id": "LcYB-rIxpxvV"
      },
      "source": [
        "cohort['InvoiceDate']= pd.to_datetime(data.InvoiceDate)"
      ],
      "execution_count": null,
      "outputs": []
    },
    {
      "cell_type": "code",
      "metadata": {
        "id": "vd6X3ZDFq5yP",
        "colab": {
          "base_uri": "https://localhost:8080/"
        },
        "outputId": "94531902-1ba1-4f77-decd-afaf6ec7b426"
      },
      "source": [
        "cohort.info()"
      ],
      "execution_count": null,
      "outputs": [
        {
          "output_type": "stream",
          "text": [
            "<class 'pandas.core.frame.DataFrame'>\n",
            "Int64Index: 406829 entries, 0 to 541908\n",
            "Data columns (total 8 columns):\n",
            " #   Column       Non-Null Count   Dtype         \n",
            "---  ------       --------------   -----         \n",
            " 0   InvoiceNo    406829 non-null  object        \n",
            " 1   StockCode    406829 non-null  object        \n",
            " 2   Description  406829 non-null  object        \n",
            " 3   Quantity     406829 non-null  int64         \n",
            " 4   InvoiceDate  406829 non-null  datetime64[ns]\n",
            " 5   UnitPrice    406829 non-null  float64       \n",
            " 6   CustomerID   406829 non-null  float64       \n",
            " 7   Country      406829 non-null  object        \n",
            "dtypes: datetime64[ns](1), float64(2), int64(1), object(4)\n",
            "memory usage: 27.9+ MB\n"
          ],
          "name": "stdout"
        }
      ]
    },
    {
      "cell_type": "markdown",
      "metadata": {
        "id": "vaEKuK06veh2"
      },
      "source": [
        "Converting variable to text "
      ]
    },
    {
      "cell_type": "code",
      "metadata": {
        "id": "X8rlpeOom0Kf"
      },
      "source": [
        "data1['CustomerID'] = data1['CustomerID'].astype(str)"
      ],
      "execution_count": null,
      "outputs": []
    },
    {
      "cell_type": "code",
      "metadata": {
        "id": "POxJRoMPcUrL"
      },
      "source": [
        "#Use the datetime fundtion to create a Month column (without the time)\n",
        "def get_month(x):\n",
        "    return dt.datetime(x.year,x.month,1) \n",
        "\n",
        "#Create a new colum \"InvoiceMonth\n",
        "cohort['InvoiceMonth'] = cohort ['InvoiceDate'].apply(get_month) \n",
        "\n",
        "#Create a 'CohortMonth' column by grouping 'CustomerID' and selec the 'InvoiceMonth' value\n",
        "grouping = cohort.groupby ('CustomerID')['InvoiceMonth']\n",
        "\n",
        "#With code (transform) assign the minimum InvoiceMonth value to the dataset\n",
        "cohort['CohortMonth']= grouping.transform('min')"
      ],
      "execution_count": null,
      "outputs": []
    },
    {
      "cell_type": "code",
      "metadata": {
        "id": "LANSH1NAY5hj"
      },
      "source": [
        "#When pass a datetime column this funtions splits out year, month and day \n",
        "def get_date_int (df, column):\n",
        "  year = df[column].dt.year\n",
        "  month = df[column].dt.month\n",
        "  return year, month"
      ],
      "execution_count": null,
      "outputs": []
    },
    {
      "cell_type": "code",
      "metadata": {
        "id": "PDmkUz_sbkjH"
      },
      "source": [
        "# Split the \"InvoiceMonth\" column to get the integers from data \n",
        "invoice_year, invoice_month = get_date_int(cohort,'InvoiceMonth')\n",
        "\n",
        "# Split the \"CohortMonth\" column to get the integers from data \n",
        "cohort_year, cohort_month = get_date_int(cohort,'CohortMonth')"
      ],
      "execution_count": null,
      "outputs": []
    },
    {
      "cell_type": "code",
      "metadata": {
        "id": "smCCL9XJhG4l"
      },
      "source": [
        "# To creat the 'CohortIndex' we need to create a variable call year_diff (diffrence between the invoice year and cohort year)\n",
        "year_diff = invoice_year - cohort_year\n",
        "\n",
        "# Difference between invoice_month and cohort_month\n",
        "month_diff = invoice_month - cohort_month"
      ],
      "execution_count": null,
      "outputs": []
    },
    {
      "cell_type": "code",
      "metadata": {
        "id": "xpn-eYexk8KL"
      },
      "source": [
        "#Now we create the 'CohortIndex' column \n",
        "cohort['CohortIndex'] = year_diff * 12 + month_diff + 1"
      ],
      "execution_count": null,
      "outputs": []
    },
    {
      "cell_type": "code",
      "metadata": {
        "id": "6JYDelXt0btz",
        "colab": {
          "base_uri": "https://localhost:8080/",
          "height": 428
        },
        "outputId": "92f0e47d-284a-4f48-edad-68444c7297ea"
      },
      "source": [
        "cohort.head()"
      ],
      "execution_count": null,
      "outputs": [
        {
          "output_type": "execute_result",
          "data": {
            "text/html": [
              "<div>\n",
              "<style scoped>\n",
              "    .dataframe tbody tr th:only-of-type {\n",
              "        vertical-align: middle;\n",
              "    }\n",
              "\n",
              "    .dataframe tbody tr th {\n",
              "        vertical-align: top;\n",
              "    }\n",
              "\n",
              "    .dataframe thead th {\n",
              "        text-align: right;\n",
              "    }\n",
              "</style>\n",
              "<table border=\"1\" class=\"dataframe\">\n",
              "  <thead>\n",
              "    <tr style=\"text-align: right;\">\n",
              "      <th></th>\n",
              "      <th>InvoiceNo</th>\n",
              "      <th>StockCode</th>\n",
              "      <th>Description</th>\n",
              "      <th>Quantity</th>\n",
              "      <th>InvoiceDate</th>\n",
              "      <th>UnitPrice</th>\n",
              "      <th>CustomerID</th>\n",
              "      <th>Country</th>\n",
              "      <th>InvoiceMonth</th>\n",
              "      <th>CohortMonth</th>\n",
              "      <th>CohortIndex</th>\n",
              "    </tr>\n",
              "  </thead>\n",
              "  <tbody>\n",
              "    <tr>\n",
              "      <th>0</th>\n",
              "      <td>536365</td>\n",
              "      <td>85123A</td>\n",
              "      <td>WHITE HANGING HEART T-LIGHT HOLDER</td>\n",
              "      <td>6</td>\n",
              "      <td>2010-12-01 08:26:00</td>\n",
              "      <td>2.55</td>\n",
              "      <td>17850.0</td>\n",
              "      <td>United Kingdom</td>\n",
              "      <td>2010-12-01</td>\n",
              "      <td>2010-12-01</td>\n",
              "      <td>1</td>\n",
              "    </tr>\n",
              "    <tr>\n",
              "      <th>1</th>\n",
              "      <td>536365</td>\n",
              "      <td>71053</td>\n",
              "      <td>WHITE METAL LANTERN</td>\n",
              "      <td>6</td>\n",
              "      <td>2010-12-01 08:26:00</td>\n",
              "      <td>3.39</td>\n",
              "      <td>17850.0</td>\n",
              "      <td>United Kingdom</td>\n",
              "      <td>2010-12-01</td>\n",
              "      <td>2010-12-01</td>\n",
              "      <td>1</td>\n",
              "    </tr>\n",
              "    <tr>\n",
              "      <th>2</th>\n",
              "      <td>536365</td>\n",
              "      <td>84406B</td>\n",
              "      <td>CREAM CUPID HEARTS COAT HANGER</td>\n",
              "      <td>8</td>\n",
              "      <td>2010-12-01 08:26:00</td>\n",
              "      <td>2.75</td>\n",
              "      <td>17850.0</td>\n",
              "      <td>United Kingdom</td>\n",
              "      <td>2010-12-01</td>\n",
              "      <td>2010-12-01</td>\n",
              "      <td>1</td>\n",
              "    </tr>\n",
              "    <tr>\n",
              "      <th>3</th>\n",
              "      <td>536365</td>\n",
              "      <td>84029G</td>\n",
              "      <td>KNITTED UNION FLAG HOT WATER BOTTLE</td>\n",
              "      <td>6</td>\n",
              "      <td>2010-12-01 08:26:00</td>\n",
              "      <td>3.39</td>\n",
              "      <td>17850.0</td>\n",
              "      <td>United Kingdom</td>\n",
              "      <td>2010-12-01</td>\n",
              "      <td>2010-12-01</td>\n",
              "      <td>1</td>\n",
              "    </tr>\n",
              "    <tr>\n",
              "      <th>4</th>\n",
              "      <td>536365</td>\n",
              "      <td>84029E</td>\n",
              "      <td>RED WOOLLY HOTTIE WHITE HEART.</td>\n",
              "      <td>6</td>\n",
              "      <td>2010-12-01 08:26:00</td>\n",
              "      <td>3.39</td>\n",
              "      <td>17850.0</td>\n",
              "      <td>United Kingdom</td>\n",
              "      <td>2010-12-01</td>\n",
              "      <td>2010-12-01</td>\n",
              "      <td>1</td>\n",
              "    </tr>\n",
              "  </tbody>\n",
              "</table>\n",
              "</div>"
            ],
            "text/plain": [
              "  InvoiceNo StockCode  ... CohortMonth  CohortIndex\n",
              "0    536365    85123A  ...  2010-12-01            1\n",
              "1    536365     71053  ...  2010-12-01            1\n",
              "2    536365    84406B  ...  2010-12-01            1\n",
              "3    536365    84029G  ...  2010-12-01            1\n",
              "4    536365    84029E  ...  2010-12-01            1\n",
              "\n",
              "[5 rows x 11 columns]"
            ]
          },
          "metadata": {
            "tags": []
          },
          "execution_count": 32
        }
      ]
    },
    {
      "cell_type": "code",
      "metadata": {
        "id": "CqmO8RU4hMUV",
        "colab": {
          "base_uri": "https://localhost:8080/"
        },
        "outputId": "811ed6bb-b8ef-4684-c8b1-b242220fe410"
      },
      "source": [
        "print(cohort['CohortIndex'].nunique())"
      ],
      "execution_count": null,
      "outputs": [
        {
          "output_type": "stream",
          "text": [
            "13\n"
          ],
          "name": "stdout"
        }
      ]
    },
    {
      "cell_type": "code",
      "metadata": {
        "id": "6pY9JLv-qAzD"
      },
      "source": [
        "#Group the data by colums 'CohortMonth' and 'CohortIndex'\n",
        "grouping = cohort.groupby(['CohortMonth', 'CohortIndex'])\n",
        "\n",
        "# Count the number of unique values per customer ID\n",
        "cohort_data = grouping['CustomerID'].apply(pd.Series.nunique).reset_index()\n",
        "\n",
        "# Create a pivot \n",
        "cohort_counts = cohort_data.pivot(index='CohortMonth', columns='CohortIndex', values='CustomerID')"
      ],
      "execution_count": null,
      "outputs": []
    },
    {
      "cell_type": "code",
      "metadata": {
        "id": "a99_tuIEtlMt"
      },
      "source": [
        "cohort_sizes = cohort_counts.iloc[:,0]\n",
        "retention = cohort_counts.divide(cohort_sizes, axis=0)*100"
      ],
      "execution_count": null,
      "outputs": []
    },
    {
      "cell_type": "code",
      "metadata": {
        "id": "3vSIhV_j1RX1",
        "colab": {
          "base_uri": "https://localhost:8080/",
          "height": 503
        },
        "outputId": "08e813eb-f42b-46fd-c672-8cf4aaac0ee4"
      },
      "source": [
        "retention"
      ],
      "execution_count": null,
      "outputs": [
        {
          "output_type": "execute_result",
          "data": {
            "text/html": [
              "<div>\n",
              "<style scoped>\n",
              "    .dataframe tbody tr th:only-of-type {\n",
              "        vertical-align: middle;\n",
              "    }\n",
              "\n",
              "    .dataframe tbody tr th {\n",
              "        vertical-align: top;\n",
              "    }\n",
              "\n",
              "    .dataframe thead th {\n",
              "        text-align: right;\n",
              "    }\n",
              "</style>\n",
              "<table border=\"1\" class=\"dataframe\">\n",
              "  <thead>\n",
              "    <tr style=\"text-align: right;\">\n",
              "      <th>CohortIndex</th>\n",
              "      <th>1</th>\n",
              "      <th>2</th>\n",
              "      <th>3</th>\n",
              "      <th>4</th>\n",
              "      <th>5</th>\n",
              "      <th>6</th>\n",
              "      <th>7</th>\n",
              "      <th>8</th>\n",
              "      <th>9</th>\n",
              "      <th>10</th>\n",
              "      <th>11</th>\n",
              "      <th>12</th>\n",
              "      <th>13</th>\n",
              "    </tr>\n",
              "    <tr>\n",
              "      <th>CohortMonth</th>\n",
              "      <th></th>\n",
              "      <th></th>\n",
              "      <th></th>\n",
              "      <th></th>\n",
              "      <th></th>\n",
              "      <th></th>\n",
              "      <th></th>\n",
              "      <th></th>\n",
              "      <th></th>\n",
              "      <th></th>\n",
              "      <th></th>\n",
              "      <th></th>\n",
              "      <th></th>\n",
              "    </tr>\n",
              "  </thead>\n",
              "  <tbody>\n",
              "    <tr>\n",
              "      <th>2010-12-01</th>\n",
              "      <td>100.0</td>\n",
              "      <td>38.185654</td>\n",
              "      <td>33.438819</td>\n",
              "      <td>38.713080</td>\n",
              "      <td>35.970464</td>\n",
              "      <td>39.662447</td>\n",
              "      <td>37.974684</td>\n",
              "      <td>35.443038</td>\n",
              "      <td>35.443038</td>\n",
              "      <td>39.451477</td>\n",
              "      <td>37.341772</td>\n",
              "      <td>50.000000</td>\n",
              "      <td>27.42616</td>\n",
              "    </tr>\n",
              "    <tr>\n",
              "      <th>2011-01-01</th>\n",
              "      <td>100.0</td>\n",
              "      <td>23.990499</td>\n",
              "      <td>28.266033</td>\n",
              "      <td>24.228029</td>\n",
              "      <td>32.779097</td>\n",
              "      <td>29.928741</td>\n",
              "      <td>26.128266</td>\n",
              "      <td>25.653207</td>\n",
              "      <td>31.116390</td>\n",
              "      <td>34.679335</td>\n",
              "      <td>36.817102</td>\n",
              "      <td>14.964371</td>\n",
              "      <td>NaN</td>\n",
              "    </tr>\n",
              "    <tr>\n",
              "      <th>2011-02-01</th>\n",
              "      <td>100.0</td>\n",
              "      <td>24.736842</td>\n",
              "      <td>19.210526</td>\n",
              "      <td>27.894737</td>\n",
              "      <td>26.842105</td>\n",
              "      <td>24.736842</td>\n",
              "      <td>25.526316</td>\n",
              "      <td>28.157895</td>\n",
              "      <td>25.789474</td>\n",
              "      <td>31.315789</td>\n",
              "      <td>9.210526</td>\n",
              "      <td>NaN</td>\n",
              "      <td>NaN</td>\n",
              "    </tr>\n",
              "    <tr>\n",
              "      <th>2011-03-01</th>\n",
              "      <td>100.0</td>\n",
              "      <td>19.090909</td>\n",
              "      <td>25.454545</td>\n",
              "      <td>21.818182</td>\n",
              "      <td>23.181818</td>\n",
              "      <td>17.727273</td>\n",
              "      <td>26.363636</td>\n",
              "      <td>23.863636</td>\n",
              "      <td>28.863636</td>\n",
              "      <td>8.863636</td>\n",
              "      <td>NaN</td>\n",
              "      <td>NaN</td>\n",
              "      <td>NaN</td>\n",
              "    </tr>\n",
              "    <tr>\n",
              "      <th>2011-04-01</th>\n",
              "      <td>100.0</td>\n",
              "      <td>22.742475</td>\n",
              "      <td>22.073579</td>\n",
              "      <td>21.070234</td>\n",
              "      <td>20.735786</td>\n",
              "      <td>23.745819</td>\n",
              "      <td>23.076923</td>\n",
              "      <td>26.086957</td>\n",
              "      <td>8.361204</td>\n",
              "      <td>NaN</td>\n",
              "      <td>NaN</td>\n",
              "      <td>NaN</td>\n",
              "      <td>NaN</td>\n",
              "    </tr>\n",
              "    <tr>\n",
              "      <th>2011-05-01</th>\n",
              "      <td>100.0</td>\n",
              "      <td>23.655914</td>\n",
              "      <td>17.204301</td>\n",
              "      <td>17.204301</td>\n",
              "      <td>21.505376</td>\n",
              "      <td>24.372760</td>\n",
              "      <td>26.523297</td>\n",
              "      <td>10.394265</td>\n",
              "      <td>NaN</td>\n",
              "      <td>NaN</td>\n",
              "      <td>NaN</td>\n",
              "      <td>NaN</td>\n",
              "      <td>NaN</td>\n",
              "    </tr>\n",
              "    <tr>\n",
              "      <th>2011-06-01</th>\n",
              "      <td>100.0</td>\n",
              "      <td>20.851064</td>\n",
              "      <td>18.723404</td>\n",
              "      <td>27.234043</td>\n",
              "      <td>24.680851</td>\n",
              "      <td>33.617021</td>\n",
              "      <td>10.212766</td>\n",
              "      <td>NaN</td>\n",
              "      <td>NaN</td>\n",
              "      <td>NaN</td>\n",
              "      <td>NaN</td>\n",
              "      <td>NaN</td>\n",
              "      <td>NaN</td>\n",
              "    </tr>\n",
              "    <tr>\n",
              "      <th>2011-07-01</th>\n",
              "      <td>100.0</td>\n",
              "      <td>20.942408</td>\n",
              "      <td>20.418848</td>\n",
              "      <td>23.036649</td>\n",
              "      <td>27.225131</td>\n",
              "      <td>11.518325</td>\n",
              "      <td>NaN</td>\n",
              "      <td>NaN</td>\n",
              "      <td>NaN</td>\n",
              "      <td>NaN</td>\n",
              "      <td>NaN</td>\n",
              "      <td>NaN</td>\n",
              "      <td>NaN</td>\n",
              "    </tr>\n",
              "    <tr>\n",
              "      <th>2011-08-01</th>\n",
              "      <td>100.0</td>\n",
              "      <td>25.149701</td>\n",
              "      <td>25.149701</td>\n",
              "      <td>25.149701</td>\n",
              "      <td>13.772455</td>\n",
              "      <td>NaN</td>\n",
              "      <td>NaN</td>\n",
              "      <td>NaN</td>\n",
              "      <td>NaN</td>\n",
              "      <td>NaN</td>\n",
              "      <td>NaN</td>\n",
              "      <td>NaN</td>\n",
              "      <td>NaN</td>\n",
              "    </tr>\n",
              "    <tr>\n",
              "      <th>2011-09-01</th>\n",
              "      <td>100.0</td>\n",
              "      <td>29.865772</td>\n",
              "      <td>32.550336</td>\n",
              "      <td>12.080537</td>\n",
              "      <td>NaN</td>\n",
              "      <td>NaN</td>\n",
              "      <td>NaN</td>\n",
              "      <td>NaN</td>\n",
              "      <td>NaN</td>\n",
              "      <td>NaN</td>\n",
              "      <td>NaN</td>\n",
              "      <td>NaN</td>\n",
              "      <td>NaN</td>\n",
              "    </tr>\n",
              "    <tr>\n",
              "      <th>2011-10-01</th>\n",
              "      <td>100.0</td>\n",
              "      <td>26.420455</td>\n",
              "      <td>13.068182</td>\n",
              "      <td>NaN</td>\n",
              "      <td>NaN</td>\n",
              "      <td>NaN</td>\n",
              "      <td>NaN</td>\n",
              "      <td>NaN</td>\n",
              "      <td>NaN</td>\n",
              "      <td>NaN</td>\n",
              "      <td>NaN</td>\n",
              "      <td>NaN</td>\n",
              "      <td>NaN</td>\n",
              "    </tr>\n",
              "    <tr>\n",
              "      <th>2011-11-01</th>\n",
              "      <td>100.0</td>\n",
              "      <td>13.395639</td>\n",
              "      <td>NaN</td>\n",
              "      <td>NaN</td>\n",
              "      <td>NaN</td>\n",
              "      <td>NaN</td>\n",
              "      <td>NaN</td>\n",
              "      <td>NaN</td>\n",
              "      <td>NaN</td>\n",
              "      <td>NaN</td>\n",
              "      <td>NaN</td>\n",
              "      <td>NaN</td>\n",
              "      <td>NaN</td>\n",
              "    </tr>\n",
              "    <tr>\n",
              "      <th>2011-12-01</th>\n",
              "      <td>100.0</td>\n",
              "      <td>NaN</td>\n",
              "      <td>NaN</td>\n",
              "      <td>NaN</td>\n",
              "      <td>NaN</td>\n",
              "      <td>NaN</td>\n",
              "      <td>NaN</td>\n",
              "      <td>NaN</td>\n",
              "      <td>NaN</td>\n",
              "      <td>NaN</td>\n",
              "      <td>NaN</td>\n",
              "      <td>NaN</td>\n",
              "      <td>NaN</td>\n",
              "    </tr>\n",
              "  </tbody>\n",
              "</table>\n",
              "</div>"
            ],
            "text/plain": [
              "CohortIndex     1          2          3   ...         11         12        13\n",
              "CohortMonth                               ...                                \n",
              "2010-12-01   100.0  38.185654  33.438819  ...  37.341772  50.000000  27.42616\n",
              "2011-01-01   100.0  23.990499  28.266033  ...  36.817102  14.964371       NaN\n",
              "2011-02-01   100.0  24.736842  19.210526  ...   9.210526        NaN       NaN\n",
              "2011-03-01   100.0  19.090909  25.454545  ...        NaN        NaN       NaN\n",
              "2011-04-01   100.0  22.742475  22.073579  ...        NaN        NaN       NaN\n",
              "2011-05-01   100.0  23.655914  17.204301  ...        NaN        NaN       NaN\n",
              "2011-06-01   100.0  20.851064  18.723404  ...        NaN        NaN       NaN\n",
              "2011-07-01   100.0  20.942408  20.418848  ...        NaN        NaN       NaN\n",
              "2011-08-01   100.0  25.149701  25.149701  ...        NaN        NaN       NaN\n",
              "2011-09-01   100.0  29.865772  32.550336  ...        NaN        NaN       NaN\n",
              "2011-10-01   100.0  26.420455  13.068182  ...        NaN        NaN       NaN\n",
              "2011-11-01   100.0  13.395639        NaN  ...        NaN        NaN       NaN\n",
              "2011-12-01   100.0        NaN        NaN  ...        NaN        NaN       NaN\n",
              "\n",
              "[13 rows x 13 columns]"
            ]
          },
          "metadata": {
            "tags": []
          },
          "execution_count": 36
        }
      ]
    },
    {
      "cell_type": "markdown",
      "metadata": {
        "id": "3EBISPvQvJHj"
      },
      "source": [
        "Creat retention as a percentage "
      ]
    },
    {
      "cell_type": "code",
      "metadata": {
        "id": "NyCSUSjrwuwj",
        "colab": {
          "base_uri": "https://localhost:8080/",
          "height": 449
        },
        "outputId": "f57bbc79-87a0-46a3-a892-01987e53f6ad"
      },
      "source": [
        "month_list = [\"Dec '10\", \"Jan '11\", \"Feb '11\", \"Mar '11\", \"Apr '11\",\\\n",
        "              \"May '11\", \"Jun '11\", \"Jul '11\", \"Aug '11\", \"Sep '11\", \\\n",
        "              \"Oct '11\", \"Nov '11\", \"Dec '11\"]\n",
        "\n",
        "# Initialize inches plot figure\n",
        "plt.figure(figsize=(15,7))\n",
        "\n",
        "# Add a title\n",
        "plt.title('Retention by Monthly Cohorts')\n",
        "\n",
        "# Create the heatmap\n",
        "sns.heatmap(data=retention,\n",
        "            annot = True,\n",
        "            cmap = \"PuRd\",\n",
        "            vmin = 0.0,\n",
        " #          vmax = 0.5,    \n",
        "            vmax = list(retention.max().sort_values(ascending = False))[1]+3,\n",
        "            fmt = '.0f',\n",
        "            linewidth = 0.3,\n",
        "            yticklabels=month_list)\n",
        "\n",
        "plt.show();       \n"
      ],
      "execution_count": null,
      "outputs": [
        {
          "output_type": "display_data",
          "data": {
            "image/png": "[encoded data removed]",
            "text/plain": [
              "<Figure size 1080x504 with 2 Axes>"
            ]
          },
          "metadata": {
            "tags": [],
            "needs_background": "light"
          }
        }
      ]
    },
    {
      "cell_type": "markdown",
      "metadata": {
        "id": "AwEgMJ9ZkU1S"
      },
      "source": [
        "**RFM Analysis**\n"
      ]
    },
    {
      "cell_type": "markdown",
      "metadata": {
        "id": "ivVC5ZHQljJ-"
      },
      "source": [
        "In the The 10 countries with the highest number of sale chart, you can observe most of the customers are from the \"United Kingdom\". So, I will filter data for United Kingdom customer."
      ]
    },
    {
      "cell_type": "code",
      "metadata": {
        "id": "yMafBqyzl7cq"
      },
      "source": [
        "uk_data1=data1[data1.Country=='United Kingdom']"
      ],
      "execution_count": null,
      "outputs": []
    },
    {
      "cell_type": "code",
      "metadata": {
        "colab": {
          "base_uri": "https://localhost:8080/"
        },
        "id": "koZgB7b7mRyV",
        "outputId": "619efd69-35dd-4c4e-c642-1579c53788d8"
      },
      "source": [
        "uk_data1.info()"
      ],
      "execution_count": null,
      "outputs": [
        {
          "output_type": "stream",
          "text": [
            "<class 'pandas.core.frame.DataFrame'>\n",
            "Int64Index: 361878 entries, 0 to 541893\n",
            "Data columns (total 8 columns):\n",
            " #   Column       Non-Null Count   Dtype         \n",
            "---  ------       --------------   -----         \n",
            " 0   InvoiceNo    361878 non-null  object        \n",
            " 1   StockCode    361878 non-null  object        \n",
            " 2   Description  361878 non-null  object        \n",
            " 3   Quantity     361878 non-null  int64         \n",
            " 4   InvoiceDate  361878 non-null  datetime64[ns]\n",
            " 5   UnitPrice    361878 non-null  float64       \n",
            " 6   CustomerID   361878 non-null  object        \n",
            " 7   Country      361878 non-null  object        \n",
            "dtypes: datetime64[ns](1), float64(1), int64(1), object(5)\n",
            "memory usage: 24.8+ MB\n"
          ],
          "name": "stdout"
        }
      ]
    },
    {
      "cell_type": "code",
      "metadata": {
        "colab": {
          "base_uri": "https://localhost:8080/",
          "height": 297
        },
        "id": "d85Nvc8Cn3d3",
        "outputId": "48640fc8-fc2a-49fc-b855-078a47f46647"
      },
      "source": [
        "uk_data1.describe()"
      ],
      "execution_count": null,
      "outputs": [
        {
          "output_type": "execute_result",
          "data": {
            "text/html": [
              "<div>\n",
              "<style scoped>\n",
              "    .dataframe tbody tr th:only-of-type {\n",
              "        vertical-align: middle;\n",
              "    }\n",
              "\n",
              "    .dataframe tbody tr th {\n",
              "        vertical-align: top;\n",
              "    }\n",
              "\n",
              "    .dataframe thead th {\n",
              "        text-align: right;\n",
              "    }\n",
              "</style>\n",
              "<table border=\"1\" class=\"dataframe\">\n",
              "  <thead>\n",
              "    <tr style=\"text-align: right;\">\n",
              "      <th></th>\n",
              "      <th>Quantity</th>\n",
              "      <th>UnitPrice</th>\n",
              "    </tr>\n",
              "  </thead>\n",
              "  <tbody>\n",
              "    <tr>\n",
              "      <th>count</th>\n",
              "      <td>361878.000000</td>\n",
              "      <td>361878.000000</td>\n",
              "    </tr>\n",
              "    <tr>\n",
              "      <th>mean</th>\n",
              "      <td>11.077029</td>\n",
              "      <td>3.256007</td>\n",
              "    </tr>\n",
              "    <tr>\n",
              "      <th>std</th>\n",
              "      <td>263.129266</td>\n",
              "      <td>70.654731</td>\n",
              "    </tr>\n",
              "    <tr>\n",
              "      <th>min</th>\n",
              "      <td>-80995.000000</td>\n",
              "      <td>0.000000</td>\n",
              "    </tr>\n",
              "    <tr>\n",
              "      <th>25%</th>\n",
              "      <td>2.000000</td>\n",
              "      <td>1.250000</td>\n",
              "    </tr>\n",
              "    <tr>\n",
              "      <th>50%</th>\n",
              "      <td>4.000000</td>\n",
              "      <td>1.950000</td>\n",
              "    </tr>\n",
              "    <tr>\n",
              "      <th>75%</th>\n",
              "      <td>12.000000</td>\n",
              "      <td>3.750000</td>\n",
              "    </tr>\n",
              "    <tr>\n",
              "      <th>max</th>\n",
              "      <td>80995.000000</td>\n",
              "      <td>38970.000000</td>\n",
              "    </tr>\n",
              "  </tbody>\n",
              "</table>\n",
              "</div>"
            ],
            "text/plain": [
              "            Quantity      UnitPrice\n",
              "count  361878.000000  361878.000000\n",
              "mean       11.077029       3.256007\n",
              "std       263.129266      70.654731\n",
              "min    -80995.000000       0.000000\n",
              "25%         2.000000       1.250000\n",
              "50%         4.000000       1.950000\n",
              "75%        12.000000       3.750000\n",
              "max     80995.000000   38970.000000"
            ]
          },
          "metadata": {
            "tags": []
          },
          "execution_count": 40
        }
      ]
    },
    {
      "cell_type": "markdown",
      "metadata": {
        "id": "2vNDPiFgl7C4"
      },
      "source": [
        "Some of the customers have ordered in a negative quantity, which is not possible. So, I need to filter Quantity greater than zero."
      ]
    },
    {
      "cell_type": "code",
      "metadata": {
        "id": "83NyjUlp2Vhp"
      },
      "source": [
        "uk_data1 = uk_data1[(uk_data1['Quantity']>0)]"
      ],
      "execution_count": null,
      "outputs": []
    },
    {
      "cell_type": "markdown",
      "metadata": {
        "id": "AycRmc-f2yZ-"
      },
      "source": [
        "**Filter the necesary column**\n",
        "\n",
        "The necessary columns for RFM analysis are: *CustomerID, InvoiceDate, InvoiceNo, Quantity, and UnitPrice*.\n",
        "\n",
        "*CustomerId* will uniquely define your customer, *InvoiceDate* help you calculate recency of purchase, *InvoiceNo* helps you to count the number of time transaction performed(frequency), *Quantity* purchased in each transaction and* UnitPrice* of each unit purchased by the customer will help you to calculate the total purchased amount."
      ]
    },
    {
      "cell_type": "code",
      "metadata": {
        "id": "JFtNVKel4jWr"
      },
      "source": [
        "uk_data1=uk_data1[['CustomerID','InvoiceDate','InvoiceNo','Quantity','UnitPrice']]\n"
      ],
      "execution_count": null,
      "outputs": []
    },
    {
      "cell_type": "code",
      "metadata": {
        "id": "_RRYTXrT4meN"
      },
      "source": [
        "uk_data1['TotalPrice'] = uk_data1['Quantity'] * uk_data1['UnitPrice']"
      ],
      "execution_count": null,
      "outputs": []
    },
    {
      "cell_type": "code",
      "metadata": {
        "colab": {
          "base_uri": "https://localhost:8080/"
        },
        "id": "W0aQsRAA4tzN",
        "outputId": "ddd67a65-326d-44da-b5a2-44e10c403401"
      },
      "source": [
        "uk_data1['InvoiceDate'].min(),uk_data1['InvoiceDate'].max()"
      ],
      "execution_count": null,
      "outputs": [
        {
          "output_type": "execute_result",
          "data": {
            "text/plain": [
              "(Timestamp('2010-12-01 08:26:00'), Timestamp('2011-12-09 12:49:00'))"
            ]
          },
          "metadata": {
            "tags": []
          },
          "execution_count": 44
        }
      ]
    },
    {
      "cell_type": "code",
      "metadata": {
        "id": "dWCti0aW5mCl"
      },
      "source": [
        "PRESENT = dt.datetime(2011,12,10)\n",
        "uk_data1['InvoiceDate'] = pd.to_datetime(uk_data1['InvoiceDate'])"
      ],
      "execution_count": null,
      "outputs": []
    },
    {
      "cell_type": "code",
      "metadata": {
        "colab": {
          "base_uri": "https://localhost:8080/",
          "height": 204
        },
        "id": "7z77Z_jH5vBc",
        "outputId": "b397e390-9a97-4cdd-af16-f2d7d6c43a79"
      },
      "source": [
        "uk_data1.head()"
      ],
      "execution_count": null,
      "outputs": [
        {
          "output_type": "execute_result",
          "data": {
            "text/html": [
              "<div>\n",
              "<style scoped>\n",
              "    .dataframe tbody tr th:only-of-type {\n",
              "        vertical-align: middle;\n",
              "    }\n",
              "\n",
              "    .dataframe tbody tr th {\n",
              "        vertical-align: top;\n",
              "    }\n",
              "\n",
              "    .dataframe thead th {\n",
              "        text-align: right;\n",
              "    }\n",
              "</style>\n",
              "<table border=\"1\" class=\"dataframe\">\n",
              "  <thead>\n",
              "    <tr style=\"text-align: right;\">\n",
              "      <th></th>\n",
              "      <th>CustomerID</th>\n",
              "      <th>InvoiceDate</th>\n",
              "      <th>InvoiceNo</th>\n",
              "      <th>Quantity</th>\n",
              "      <th>UnitPrice</th>\n",
              "      <th>TotalPrice</th>\n",
              "    </tr>\n",
              "  </thead>\n",
              "  <tbody>\n",
              "    <tr>\n",
              "      <th>0</th>\n",
              "      <td>17850.0</td>\n",
              "      <td>2010-12-01 08:26:00</td>\n",
              "      <td>536365</td>\n",
              "      <td>6</td>\n",
              "      <td>2.55</td>\n",
              "      <td>15.30</td>\n",
              "    </tr>\n",
              "    <tr>\n",
              "      <th>1</th>\n",
              "      <td>17850.0</td>\n",
              "      <td>2010-12-01 08:26:00</td>\n",
              "      <td>536365</td>\n",
              "      <td>6</td>\n",
              "      <td>3.39</td>\n",
              "      <td>20.34</td>\n",
              "    </tr>\n",
              "    <tr>\n",
              "      <th>2</th>\n",
              "      <td>17850.0</td>\n",
              "      <td>2010-12-01 08:26:00</td>\n",
              "      <td>536365</td>\n",
              "      <td>8</td>\n",
              "      <td>2.75</td>\n",
              "      <td>22.00</td>\n",
              "    </tr>\n",
              "    <tr>\n",
              "      <th>3</th>\n",
              "      <td>17850.0</td>\n",
              "      <td>2010-12-01 08:26:00</td>\n",
              "      <td>536365</td>\n",
              "      <td>6</td>\n",
              "      <td>3.39</td>\n",
              "      <td>20.34</td>\n",
              "    </tr>\n",
              "    <tr>\n",
              "      <th>4</th>\n",
              "      <td>17850.0</td>\n",
              "      <td>2010-12-01 08:26:00</td>\n",
              "      <td>536365</td>\n",
              "      <td>6</td>\n",
              "      <td>3.39</td>\n",
              "      <td>20.34</td>\n",
              "    </tr>\n",
              "  </tbody>\n",
              "</table>\n",
              "</div>"
            ],
            "text/plain": [
              "  CustomerID         InvoiceDate InvoiceNo  Quantity  UnitPrice  TotalPrice\n",
              "0    17850.0 2010-12-01 08:26:00    536365         6       2.55       15.30\n",
              "1    17850.0 2010-12-01 08:26:00    536365         6       3.39       20.34\n",
              "2    17850.0 2010-12-01 08:26:00    536365         8       2.75       22.00\n",
              "3    17850.0 2010-12-01 08:26:00    536365         6       3.39       20.34\n",
              "4    17850.0 2010-12-01 08:26:00    536365         6       3.39       20.34"
            ]
          },
          "metadata": {
            "tags": []
          },
          "execution_count": 46
        }
      ]
    },
    {
      "cell_type": "markdown",
      "metadata": {
        "id": "HgJm3-av6v4j"
      },
      "source": [
        "\n",
        "Here, I'm going to perform following opertaions:\n",
        "\n",
        "RFM\n",
        "\n",
        "For Recency, Calculate the number of days between present date and date of last purchase each customer.\n",
        "\n",
        "For Frequency, Calculate the number of orders for each customer.\n",
        "\n",
        "For Monetary, Calculate sum of purchase price for each customer."
      ]
    },
    {
      "cell_type": "code",
      "metadata": {
        "id": "X30Y2nQ6yuCe"
      },
      "source": [
        "rfm = uk_data1.groupby('CustomerID').agg({'InvoiceDate': lambda date:(PRESENT - date.max()).days,'TotalPrice':lambda price:price.sum(),'InvoiceNo': lambda num: len(num)})"
      ],
      "execution_count": null,
      "outputs": []
    },
    {
      "cell_type": "code",
      "metadata": {
        "colab": {
          "base_uri": "https://localhost:8080/",
          "height": 235
        },
        "id": "TFrR4BgLgbGH",
        "outputId": "72587331-5852-4373-802e-69f80e767dfc"
      },
      "source": [
        "rfm.head()"
      ],
      "execution_count": null,
      "outputs": [
        {
          "output_type": "execute_result",
          "data": {
            "text/html": [
              "<div>\n",
              "<style scoped>\n",
              "    .dataframe tbody tr th:only-of-type {\n",
              "        vertical-align: middle;\n",
              "    }\n",
              "\n",
              "    .dataframe tbody tr th {\n",
              "        vertical-align: top;\n",
              "    }\n",
              "\n",
              "    .dataframe thead th {\n",
              "        text-align: right;\n",
              "    }\n",
              "</style>\n",
              "<table border=\"1\" class=\"dataframe\">\n",
              "  <thead>\n",
              "    <tr style=\"text-align: right;\">\n",
              "      <th></th>\n",
              "      <th>InvoiceDate</th>\n",
              "      <th>TotalPrice</th>\n",
              "      <th>InvoiceNo</th>\n",
              "    </tr>\n",
              "    <tr>\n",
              "      <th>CustomerID</th>\n",
              "      <th></th>\n",
              "      <th></th>\n",
              "      <th></th>\n",
              "    </tr>\n",
              "  </thead>\n",
              "  <tbody>\n",
              "    <tr>\n",
              "      <th>12346.0</th>\n",
              "      <td>325</td>\n",
              "      <td>77183.60</td>\n",
              "      <td>1</td>\n",
              "    </tr>\n",
              "    <tr>\n",
              "      <th>12747.0</th>\n",
              "      <td>2</td>\n",
              "      <td>4196.01</td>\n",
              "      <td>103</td>\n",
              "    </tr>\n",
              "    <tr>\n",
              "      <th>12748.0</th>\n",
              "      <td>0</td>\n",
              "      <td>33719.73</td>\n",
              "      <td>4596</td>\n",
              "    </tr>\n",
              "    <tr>\n",
              "      <th>12749.0</th>\n",
              "      <td>3</td>\n",
              "      <td>4090.88</td>\n",
              "      <td>199</td>\n",
              "    </tr>\n",
              "    <tr>\n",
              "      <th>12820.0</th>\n",
              "      <td>3</td>\n",
              "      <td>942.34</td>\n",
              "      <td>59</td>\n",
              "    </tr>\n",
              "  </tbody>\n",
              "</table>\n",
              "</div>"
            ],
            "text/plain": [
              "            InvoiceDate  TotalPrice  InvoiceNo\n",
              "CustomerID                                    \n",
              "12346.0             325    77183.60          1\n",
              "12747.0               2     4196.01        103\n",
              "12748.0               0    33719.73       4596\n",
              "12749.0               3     4090.88        199\n",
              "12820.0               3      942.34         59"
            ]
          },
          "metadata": {
            "tags": []
          },
          "execution_count": 64
        }
      ]
    },
    {
      "cell_type": "code",
      "metadata": {
        "colab": {
          "base_uri": "https://localhost:8080/"
        },
        "id": "cUUdJCqg1vcz",
        "outputId": "5d032641-5357-4af2-ac62-a8d9bc6ca642"
      },
      "source": [
        "rfm.columns"
      ],
      "execution_count": null,
      "outputs": [
        {
          "output_type": "execute_result",
          "data": {
            "text/plain": [
              "Index(['InvoiceDate', 'TotalPrice', 'InvoiceNo'], dtype='object')"
            ]
          },
          "metadata": {
            "tags": []
          },
          "execution_count": 65
        }
      ]
    },
    {
      "cell_type": "code",
      "metadata": {
        "id": "-39kv_3F15zX"
      },
      "source": [
        "# Change the name of columns\n",
        "rfm.columns=['frequency','monetary','recency']"
      ],
      "execution_count": null,
      "outputs": []
    },
    {
      "cell_type": "code",
      "metadata": {
        "id": "eEzyk65o2zs5"
      },
      "source": [
        "rfm['recency'] = rfm['recency'].astype(int)"
      ],
      "execution_count": null,
      "outputs": []
    },
    {
      "cell_type": "code",
      "metadata": {
        "colab": {
          "base_uri": "https://localhost:8080/",
          "height": 235
        },
        "id": "lIQXuFXb22IR",
        "outputId": "7311362f-8e60-4c0b-8a5f-ffcc32ac6752"
      },
      "source": [
        "rfm.head()"
      ],
      "execution_count": null,
      "outputs": [
        {
          "output_type": "execute_result",
          "data": {
            "text/html": [
              "<div>\n",
              "<style scoped>\n",
              "    .dataframe tbody tr th:only-of-type {\n",
              "        vertical-align: middle;\n",
              "    }\n",
              "\n",
              "    .dataframe tbody tr th {\n",
              "        vertical-align: top;\n",
              "    }\n",
              "\n",
              "    .dataframe thead th {\n",
              "        text-align: right;\n",
              "    }\n",
              "</style>\n",
              "<table border=\"1\" class=\"dataframe\">\n",
              "  <thead>\n",
              "    <tr style=\"text-align: right;\">\n",
              "      <th></th>\n",
              "      <th>frequency</th>\n",
              "      <th>monetary</th>\n",
              "      <th>recency</th>\n",
              "    </tr>\n",
              "    <tr>\n",
              "      <th>CustomerID</th>\n",
              "      <th></th>\n",
              "      <th></th>\n",
              "      <th></th>\n",
              "    </tr>\n",
              "  </thead>\n",
              "  <tbody>\n",
              "    <tr>\n",
              "      <th>12346.0</th>\n",
              "      <td>325</td>\n",
              "      <td>77183.60</td>\n",
              "      <td>1</td>\n",
              "    </tr>\n",
              "    <tr>\n",
              "      <th>12747.0</th>\n",
              "      <td>2</td>\n",
              "      <td>4196.01</td>\n",
              "      <td>103</td>\n",
              "    </tr>\n",
              "    <tr>\n",
              "      <th>12748.0</th>\n",
              "      <td>0</td>\n",
              "      <td>33719.73</td>\n",
              "      <td>4596</td>\n",
              "    </tr>\n",
              "    <tr>\n",
              "      <th>12749.0</th>\n",
              "      <td>3</td>\n",
              "      <td>4090.88</td>\n",
              "      <td>199</td>\n",
              "    </tr>\n",
              "    <tr>\n",
              "      <th>12820.0</th>\n",
              "      <td>3</td>\n",
              "      <td>942.34</td>\n",
              "      <td>59</td>\n",
              "    </tr>\n",
              "  </tbody>\n",
              "</table>\n",
              "</div>"
            ],
            "text/plain": [
              "            frequency  monetary  recency\n",
              "CustomerID                              \n",
              "12346.0           325  77183.60        1\n",
              "12747.0             2   4196.01      103\n",
              "12748.0             0  33719.73     4596\n",
              "12749.0             3   4090.88      199\n",
              "12820.0             3    942.34       59"
            ]
          },
          "metadata": {
            "tags": []
          },
          "execution_count": 71
        }
      ]
    },
    {
      "cell_type": "markdown",
      "metadata": {
        "id": "ezokpqjTS00p"
      },
      "source": [
        "**Computing Quantile of RFM values**\n",
        "\n",
        "qcut() is Quantile-based discretization function. qcut bins the data based on sample quantiles. I will devide the custoners in quantiles to determin the top customers, the ones with the lowest recency, highest frequency and monetary amounts"
      ]
    },
    {
      "cell_type": "code",
      "metadata": {
        "id": "QrlfeRUcTPYf"
      },
      "source": [
        "rfm['r_quartile'] = pd.qcut(rfm['recency'], 5, ['1','2','3','4','5'])\n",
        "rfm['f_quartile'] = pd.qcut(rfm['frequency'], 5, ['5','4','3','2','1'])\n",
        "rfm['m_quartile'] = pd.qcut(rfm['monetary'], 5, ['5','4','3','2','1'])"
      ],
      "execution_count": null,
      "outputs": []
    },
    {
      "cell_type": "code",
      "metadata": {
        "colab": {
          "base_uri": "https://localhost:8080/",
          "height": 235
        },
        "id": "1-_CL8gxTSef",
        "outputId": "7deed17f-bfe8-4d7a-9b27-2bee5acc4191"
      },
      "source": [
        "rfm.head()\n"
      ],
      "execution_count": null,
      "outputs": [
        {
          "output_type": "execute_result",
          "data": {
            "text/html": [
              "<div>\n",
              "<style scoped>\n",
              "    .dataframe tbody tr th:only-of-type {\n",
              "        vertical-align: middle;\n",
              "    }\n",
              "\n",
              "    .dataframe tbody tr th {\n",
              "        vertical-align: top;\n",
              "    }\n",
              "\n",
              "    .dataframe thead th {\n",
              "        text-align: right;\n",
              "    }\n",
              "</style>\n",
              "<table border=\"1\" class=\"dataframe\">\n",
              "  <thead>\n",
              "    <tr style=\"text-align: right;\">\n",
              "      <th></th>\n",
              "      <th>frequency</th>\n",
              "      <th>monetary</th>\n",
              "      <th>recency</th>\n",
              "      <th>r_quartile</th>\n",
              "      <th>f_quartile</th>\n",
              "      <th>m_quartile</th>\n",
              "    </tr>\n",
              "    <tr>\n",
              "      <th>CustomerID</th>\n",
              "      <th></th>\n",
              "      <th></th>\n",
              "      <th></th>\n",
              "      <th></th>\n",
              "      <th></th>\n",
              "      <th></th>\n",
              "    </tr>\n",
              "  </thead>\n",
              "  <tbody>\n",
              "    <tr>\n",
              "      <th>12346.0</th>\n",
              "      <td>325</td>\n",
              "      <td>77183.60</td>\n",
              "      <td>1</td>\n",
              "      <td>1</td>\n",
              "      <td>1</td>\n",
              "      <td>1</td>\n",
              "    </tr>\n",
              "    <tr>\n",
              "      <th>12747.0</th>\n",
              "      <td>2</td>\n",
              "      <td>4196.01</td>\n",
              "      <td>103</td>\n",
              "      <td>4</td>\n",
              "      <td>5</td>\n",
              "      <td>1</td>\n",
              "    </tr>\n",
              "    <tr>\n",
              "      <th>12748.0</th>\n",
              "      <td>0</td>\n",
              "      <td>33719.73</td>\n",
              "      <td>4596</td>\n",
              "      <td>5</td>\n",
              "      <td>5</td>\n",
              "      <td>1</td>\n",
              "    </tr>\n",
              "    <tr>\n",
              "      <th>12749.0</th>\n",
              "      <td>3</td>\n",
              "      <td>4090.88</td>\n",
              "      <td>199</td>\n",
              "      <td>5</td>\n",
              "      <td>5</td>\n",
              "      <td>1</td>\n",
              "    </tr>\n",
              "    <tr>\n",
              "      <th>12820.0</th>\n",
              "      <td>3</td>\n",
              "      <td>942.34</td>\n",
              "      <td>59</td>\n",
              "      <td>4</td>\n",
              "      <td>5</td>\n",
              "      <td>2</td>\n",
              "    </tr>\n",
              "  </tbody>\n",
              "</table>\n",
              "</div>"
            ],
            "text/plain": [
              "            frequency  monetary  recency r_quartile f_quartile m_quartile\n",
              "CustomerID                                                               \n",
              "12346.0           325  77183.60        1          1          1          1\n",
              "12747.0             2   4196.01      103          4          5          1\n",
              "12748.0             0  33719.73     4596          5          5          1\n",
              "12749.0             3   4090.88      199          5          5          1\n",
              "12820.0             3    942.34       59          4          5          2"
            ]
          },
          "metadata": {
            "tags": []
          },
          "execution_count": 75
        }
      ]
    },
    {
      "cell_type": "markdown",
      "metadata": {
        "id": "rPd88rZWUV6u"
      },
      "source": [
        "**RFM Result Interpretation**\n",
        "Combine all three quartiles(r_quartile,f_quartile,m_quartile) in a single column, this rank will help you to segment the customers well group."
      ]
    },
    {
      "cell_type": "code",
      "metadata": {
        "colab": {
          "base_uri": "https://localhost:8080/",
          "height": 235
        },
        "id": "YJsvVXBGUYv9",
        "outputId": "b9093328-feb9-495f-bd9d-891f17718011"
      },
      "source": [
        "rfm['RFM_Score'] = rfm.r_quartile.astype(str)+ rfm.f_quartile.astype(str) + rfm.m_quartile.astype(str)\n",
        "rfm.head()"
      ],
      "execution_count": null,
      "outputs": [
        {
          "output_type": "execute_result",
          "data": {
            "text/html": [
              "<div>\n",
              "<style scoped>\n",
              "    .dataframe tbody tr th:only-of-type {\n",
              "        vertical-align: middle;\n",
              "    }\n",
              "\n",
              "    .dataframe tbody tr th {\n",
              "        vertical-align: top;\n",
              "    }\n",
              "\n",
              "    .dataframe thead th {\n",
              "        text-align: right;\n",
              "    }\n",
              "</style>\n",
              "<table border=\"1\" class=\"dataframe\">\n",
              "  <thead>\n",
              "    <tr style=\"text-align: right;\">\n",
              "      <th></th>\n",
              "      <th>frequency</th>\n",
              "      <th>monetary</th>\n",
              "      <th>recency</th>\n",
              "      <th>r_quartile</th>\n",
              "      <th>f_quartile</th>\n",
              "      <th>m_quartile</th>\n",
              "      <th>RFM_Score</th>\n",
              "    </tr>\n",
              "    <tr>\n",
              "      <th>CustomerID</th>\n",
              "      <th></th>\n",
              "      <th></th>\n",
              "      <th></th>\n",
              "      <th></th>\n",
              "      <th></th>\n",
              "      <th></th>\n",
              "      <th></th>\n",
              "    </tr>\n",
              "  </thead>\n",
              "  <tbody>\n",
              "    <tr>\n",
              "      <th>12346.0</th>\n",
              "      <td>325</td>\n",
              "      <td>77183.60</td>\n",
              "      <td>1</td>\n",
              "      <td>1</td>\n",
              "      <td>1</td>\n",
              "      <td>1</td>\n",
              "      <td>111</td>\n",
              "    </tr>\n",
              "    <tr>\n",
              "      <th>12747.0</th>\n",
              "      <td>2</td>\n",
              "      <td>4196.01</td>\n",
              "      <td>103</td>\n",
              "      <td>4</td>\n",
              "      <td>5</td>\n",
              "      <td>1</td>\n",
              "      <td>451</td>\n",
              "    </tr>\n",
              "    <tr>\n",
              "      <th>12748.0</th>\n",
              "      <td>0</td>\n",
              "      <td>33719.73</td>\n",
              "      <td>4596</td>\n",
              "      <td>5</td>\n",
              "      <td>5</td>\n",
              "      <td>1</td>\n",
              "      <td>551</td>\n",
              "    </tr>\n",
              "    <tr>\n",
              "      <th>12749.0</th>\n",
              "      <td>3</td>\n",
              "      <td>4090.88</td>\n",
              "      <td>199</td>\n",
              "      <td>5</td>\n",
              "      <td>5</td>\n",
              "      <td>1</td>\n",
              "      <td>551</td>\n",
              "    </tr>\n",
              "    <tr>\n",
              "      <th>12820.0</th>\n",
              "      <td>3</td>\n",
              "      <td>942.34</td>\n",
              "      <td>59</td>\n",
              "      <td>4</td>\n",
              "      <td>5</td>\n",
              "      <td>2</td>\n",
              "      <td>452</td>\n",
              "    </tr>\n",
              "  </tbody>\n",
              "</table>\n",
              "</div>"
            ],
            "text/plain": [
              "            frequency  monetary  recency  ... f_quartile m_quartile RFM_Score\n",
              "CustomerID                                ...                                \n",
              "12346.0           325  77183.60        1  ...          1          1       111\n",
              "12747.0             2   4196.01      103  ...          5          1       451\n",
              "12748.0             0  33719.73     4596  ...          5          1       551\n",
              "12749.0             3   4090.88      199  ...          5          1       551\n",
              "12820.0             3    942.34       59  ...          5          2       452\n",
              "\n",
              "[5 rows x 7 columns]"
            ]
          },
          "metadata": {
            "tags": []
          },
          "execution_count": 76
        }
      ]
    },
    {
      "cell_type": "code",
      "metadata": {
        "id": "OAH5qEzMUtL8",
        "colab": {
          "base_uri": "https://localhost:8080/",
          "height": 235
        },
        "outputId": "347c0cf7-6efc-42ec-c574-80ef28ce8c18"
      },
      "source": [
        "# Filter out Top/Best cusotmers\n",
        "rfm[rfm['RFM_Score']=='111'].sort_values('monetary', ascending=False).head()"
      ],
      "execution_count": null,
      "outputs": [
        {
          "output_type": "execute_result",
          "data": {
            "text/html": [
              "<div>\n",
              "<style scoped>\n",
              "    .dataframe tbody tr th:only-of-type {\n",
              "        vertical-align: middle;\n",
              "    }\n",
              "\n",
              "    .dataframe tbody tr th {\n",
              "        vertical-align: top;\n",
              "    }\n",
              "\n",
              "    .dataframe thead th {\n",
              "        text-align: right;\n",
              "    }\n",
              "</style>\n",
              "<table border=\"1\" class=\"dataframe\">\n",
              "  <thead>\n",
              "    <tr style=\"text-align: right;\">\n",
              "      <th></th>\n",
              "      <th>frequency</th>\n",
              "      <th>monetary</th>\n",
              "      <th>recency</th>\n",
              "      <th>r_quartile</th>\n",
              "      <th>f_quartile</th>\n",
              "      <th>m_quartile</th>\n",
              "      <th>RFM_Score</th>\n",
              "    </tr>\n",
              "    <tr>\n",
              "      <th>CustomerID</th>\n",
              "      <th></th>\n",
              "      <th></th>\n",
              "      <th></th>\n",
              "      <th></th>\n",
              "      <th></th>\n",
              "      <th></th>\n",
              "      <th></th>\n",
              "    </tr>\n",
              "  </thead>\n",
              "  <tbody>\n",
              "    <tr>\n",
              "      <th>12346.0</th>\n",
              "      <td>325</td>\n",
              "      <td>77183.6</td>\n",
              "      <td>1</td>\n",
              "      <td>1</td>\n",
              "      <td>1</td>\n",
              "      <td>1</td>\n",
              "      <td>111</td>\n",
              "    </tr>\n",
              "    <tr>\n",
              "      <th>15749.0</th>\n",
              "      <td>235</td>\n",
              "      <td>44534.3</td>\n",
              "      <td>10</td>\n",
              "      <td>1</td>\n",
              "      <td>1</td>\n",
              "      <td>1</td>\n",
              "      <td>111</td>\n",
              "    </tr>\n",
              "    <tr>\n",
              "      <th>15098.0</th>\n",
              "      <td>182</td>\n",
              "      <td>39916.5</td>\n",
              "      <td>3</td>\n",
              "      <td>1</td>\n",
              "      <td>1</td>\n",
              "      <td>1</td>\n",
              "      <td>111</td>\n",
              "    </tr>\n",
              "    <tr>\n",
              "      <th>13135.0</th>\n",
              "      <td>196</td>\n",
              "      <td>3096.0</td>\n",
              "      <td>1</td>\n",
              "      <td>1</td>\n",
              "      <td>1</td>\n",
              "      <td>1</td>\n",
              "      <td>111</td>\n",
              "    </tr>\n",
              "    <tr>\n",
              "      <th>16754.0</th>\n",
              "      <td>372</td>\n",
              "      <td>2002.4</td>\n",
              "      <td>2</td>\n",
              "      <td>1</td>\n",
              "      <td>1</td>\n",
              "      <td>1</td>\n",
              "      <td>111</td>\n",
              "    </tr>\n",
              "  </tbody>\n",
              "</table>\n",
              "</div>"
            ],
            "text/plain": [
              "            frequency  monetary  recency  ... f_quartile m_quartile RFM_Score\n",
              "CustomerID                                ...                                \n",
              "12346.0           325   77183.6        1  ...          1          1       111\n",
              "15749.0           235   44534.3       10  ...          1          1       111\n",
              "15098.0           182   39916.5        3  ...          1          1       111\n",
              "13135.0           196    3096.0        1  ...          1          1       111\n",
              "16754.0           372    2002.4        2  ...          1          1       111\n",
              "\n",
              "[5 rows x 7 columns]"
            ]
          },
          "metadata": {
            "tags": []
          },
          "execution_count": 77
        }
      ]
    }
  ]
}
