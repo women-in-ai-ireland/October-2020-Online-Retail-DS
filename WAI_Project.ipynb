{
  "nbformat": 4,
  "nbformat_minor": 0,
  "metadata": {
    "colab": {
      "name": "WAI - Project",
      "provenance": [],
      "toc_visible": true,
      "include_colab_link": true
    },
    "kernelspec": {
      "name": "python3",
      "display_name": "Python 3"
    }
  },
  "cells": [
    {
      "cell_type": "markdown",
      "metadata": {
        "id": "view-in-github",
        "colab_type": "text"
      },
      "source": [
        "<a href=\"https://colab.research.google.com/github/women-in-ai-ireland/October-2020-WaiLEARN-004/blob/master/WAI_Project.ipynb\" target=\"_parent\"><img src=\"https://colab.research.google.com/assets/colab-badge.svg\" alt=\"Open In Colab\"/></a>"
      ]
    },
    {
      "cell_type": "markdown",
      "metadata": {
        "id": "1AFAIxNmm9IL"
      },
      "source": [
        "#**ONLINE RETAIL DATA PROJECT**\r\n",
        "\r\n",
        "##**Data Set Information:**\r\n",
        "This is a transnational data set which contains all the transactions occurring between 01/12/2010 and 09/12/2011 for a UK-based and registered non-store online retail.The company mainly sells unique all-occasion gifts. Many customers of the company are wholesalers."
      ]
    },
    {
      "cell_type": "markdown",
      "metadata": {
        "id": "l3qs9NvImQZc"
      },
      "source": [
        "###**Exploratory Data Analysis** "
      ]
    },
    {
      "cell_type": "markdown",
      "metadata": {
        "id": "wLUzRUHEmUy3"
      },
      "source": [
        "##### 1. Importing needed libraries and reading the data"
      ]
    },
    {
      "cell_type": "code",
      "metadata": {
        "id": "NjTdLz_CGyQM"
      },
      "source": [
        "import pandas as pd\r\n",
        "import seaborn as sns\r\n",
        "import matplotlib.pyplot as plt\r\n",
        "from plotnine import *\r\n",
        "import numpy as np\r\n",
        "import plotly.graph_objects as go\r\n",
        "from datetime import datetime\r\n",
        "from collections import OrderedDict\r\n",
        "import datetime as dt\r\n",
        "#import pycountry"
      ],
      "execution_count": null,
      "outputs": []
    },
    {
      "cell_type": "code",
      "metadata": {
        "id": "xNCZpIs6ju8R"
      },
      "source": [
        "data =pd.read_excel('/content/Online Retail.xlsx')"
      ],
      "execution_count": null,
      "outputs": []
    },
    {
      "cell_type": "markdown",
      "metadata": {
        "id": "nb2oSTICmhen"
      },
      "source": [
        "##### 2. Insights from the dataset"
      ]
    },
    {
      "cell_type": "markdown",
      "metadata": {
        "id": "DwYrrKmXoGD9"
      },
      "source": [
        "\r\n",
        "\r\n",
        "*   The dataset has 541,909 rows and 8 columns\r\n",
        "\r\n",
        "*   The variables *CustomerId* and *Description* are the ones with the highest number of missing values.\r\n",
        "*   The average product price is 4.61 pounds\r\n",
        "*   The following variables need to be converted in the next steps:  ***CustomerId*** to object.\r\n",
        "\r\n"
      ]
    },
    {
      "cell_type": "code",
      "metadata": {
        "colab": {
          "base_uri": "https://localhost:8080/"
        },
        "id": "DQZ-p3CJlxJM",
        "outputId": "0f677320-6899-47f4-b9ac-6124162882f8"
      },
      "source": [
        "info = data.info()"
      ],
      "execution_count": null,
      "outputs": [
        {
          "output_type": "stream",
          "text": [
            "<class 'pandas.core.frame.DataFrame'>\n",
            "RangeIndex: 541909 entries, 0 to 541908\n",
            "Data columns (total 8 columns):\n",
            " #   Column       Non-Null Count   Dtype         \n",
            "---  ------       --------------   -----         \n",
            " 0   InvoiceNo    541909 non-null  object        \n",
            " 1   StockCode    541909 non-null  object        \n",
            " 2   Description  540455 non-null  object        \n",
            " 3   Quantity     541909 non-null  int64         \n",
            " 4   InvoiceDate  541909 non-null  datetime64[ns]\n",
            " 5   UnitPrice    541909 non-null  float64       \n",
            " 6   CustomerID   406829 non-null  float64       \n",
            " 7   Country      541909 non-null  object        \n",
            "dtypes: datetime64[ns](1), float64(2), int64(1), object(4)\n",
            "memory usage: 33.1+ MB\n"
          ],
          "name": "stdout"
        }
      ]
    },
    {
      "cell_type": "code",
      "metadata": {
        "colab": {
          "base_uri": "https://localhost:8080/",
          "height": 286
        },
        "id": "iJCDDC3hl0I7",
        "outputId": "60cc29d8-1119-4aad-951a-53632de2954c"
      },
      "source": [
        "data.describe()"
      ],
      "execution_count": null,
      "outputs": [
        {
          "output_type": "execute_result",
          "data": {
            "text/html": [
              "<div>\n",
              "<style scoped>\n",
              "    .dataframe tbody tr th:only-of-type {\n",
              "        vertical-align: middle;\n",
              "    }\n",
              "\n",
              "    .dataframe tbody tr th {\n",
              "        vertical-align: top;\n",
              "    }\n",
              "\n",
              "    .dataframe thead th {\n",
              "        text-align: right;\n",
              "    }\n",
              "</style>\n",
              "<table border=\"1\" class=\"dataframe\">\n",
              "  <thead>\n",
              "    <tr style=\"text-align: right;\">\n",
              "      <th></th>\n",
              "      <th>Quantity</th>\n",
              "      <th>UnitPrice</th>\n",
              "      <th>CustomerID</th>\n",
              "    </tr>\n",
              "  </thead>\n",
              "  <tbody>\n",
              "    <tr>\n",
              "      <th>count</th>\n",
              "      <td>541909.000000</td>\n",
              "      <td>541909.000000</td>\n",
              "      <td>406829.000000</td>\n",
              "    </tr>\n",
              "    <tr>\n",
              "      <th>mean</th>\n",
              "      <td>9.552250</td>\n",
              "      <td>4.611114</td>\n",
              "      <td>15287.690570</td>\n",
              "    </tr>\n",
              "    <tr>\n",
              "      <th>std</th>\n",
              "      <td>218.081158</td>\n",
              "      <td>96.759853</td>\n",
              "      <td>1713.600303</td>\n",
              "    </tr>\n",
              "    <tr>\n",
              "      <th>min</th>\n",
              "      <td>-80995.000000</td>\n",
              "      <td>-11062.060000</td>\n",
              "      <td>12346.000000</td>\n",
              "    </tr>\n",
              "    <tr>\n",
              "      <th>25%</th>\n",
              "      <td>1.000000</td>\n",
              "      <td>1.250000</td>\n",
              "      <td>13953.000000</td>\n",
              "    </tr>\n",
              "    <tr>\n",
              "      <th>50%</th>\n",
              "      <td>3.000000</td>\n",
              "      <td>2.080000</td>\n",
              "      <td>15152.000000</td>\n",
              "    </tr>\n",
              "    <tr>\n",
              "      <th>75%</th>\n",
              "      <td>10.000000</td>\n",
              "      <td>4.130000</td>\n",
              "      <td>16791.000000</td>\n",
              "    </tr>\n",
              "    <tr>\n",
              "      <th>max</th>\n",
              "      <td>80995.000000</td>\n",
              "      <td>38970.000000</td>\n",
              "      <td>18287.000000</td>\n",
              "    </tr>\n",
              "  </tbody>\n",
              "</table>\n",
              "</div>"
            ],
            "text/plain": [
              "            Quantity      UnitPrice     CustomerID\n",
              "count  541909.000000  541909.000000  406829.000000\n",
              "mean        9.552250       4.611114   15287.690570\n",
              "std       218.081158      96.759853    1713.600303\n",
              "min    -80995.000000  -11062.060000   12346.000000\n",
              "25%         1.000000       1.250000   13953.000000\n",
              "50%         3.000000       2.080000   15152.000000\n",
              "75%        10.000000       4.130000   16791.000000\n",
              "max     80995.000000   38970.000000   18287.000000"
            ]
          },
          "metadata": {
            "tags": []
          },
          "execution_count": 5
        }
      ]
    },
    {
      "cell_type": "code",
      "metadata": {
        "colab": {
          "base_uri": "https://localhost:8080/"
        },
        "id": "1tEukBhBpHpk",
        "outputId": "72b603c2-77a7-4e10-e2e7-8da309e13518"
      },
      "source": [
        "data.isnull().sum()"
      ],
      "execution_count": null,
      "outputs": [
        {
          "output_type": "execute_result",
          "data": {
            "text/plain": [
              "InvoiceNo           0\n",
              "StockCode           0\n",
              "Description      1454\n",
              "Quantity            0\n",
              "InvoiceDate         0\n",
              "UnitPrice           0\n",
              "CustomerID     135080\n",
              "Country             0\n",
              "dtype: int64"
            ]
          },
          "metadata": {
            "tags": []
          },
          "execution_count": 6
        }
      ]
    },
    {
      "cell_type": "markdown",
      "metadata": {
        "id": "xix-5_5iGXyE"
      },
      "source": [
        "3. Data Manipulation"
      ]
    },
    {
      "cell_type": "markdown",
      "metadata": {
        "id": "k3csFtIQF6tP"
      },
      "source": [
        "* In this step we are going to convert the variable CustomerID  into character as mentioned above and also removing the rows where there are missing values."
      ]
    },
    {
      "cell_type": "code",
      "metadata": {
        "id": "vz5lwWzAFZ1y"
      },
      "source": [
        "data['CustomerID'] = data['CustomerID'] .astype(str)"
      ],
      "execution_count": null,
      "outputs": []
    },
    {
      "cell_type": "code",
      "metadata": {
        "id": "SvMlB1wIFmQP"
      },
      "source": [
        "data = data.dropna()"
      ],
      "execution_count": null,
      "outputs": []
    },
    {
      "cell_type": "code",
      "metadata": {
        "id": "_NzA3uOCMvlc"
      },
      "source": [
        "data['Country'] = data['Country'].replace(['EIRE'],'Ireland')"
      ],
      "execution_count": null,
      "outputs": []
    },
    {
      "cell_type": "code",
      "metadata": {
        "colab": {
          "base_uri": "https://localhost:8080/"
        },
        "id": "dN40wMatF2n8",
        "outputId": "29fbd26c-88ca-4bc9-850c-5880864a8271"
      },
      "source": [
        "data.info()"
      ],
      "execution_count": null,
      "outputs": [
        {
          "output_type": "stream",
          "text": [
            "<class 'pandas.core.frame.DataFrame'>\n",
            "Int64Index: 540455 entries, 0 to 541908\n",
            "Data columns (total 8 columns):\n",
            " #   Column       Non-Null Count   Dtype         \n",
            "---  ------       --------------   -----         \n",
            " 0   InvoiceNo    540455 non-null  object        \n",
            " 1   StockCode    540455 non-null  object        \n",
            " 2   Description  540455 non-null  object        \n",
            " 3   Quantity     540455 non-null  int64         \n",
            " 4   InvoiceDate  540455 non-null  datetime64[ns]\n",
            " 5   UnitPrice    540455 non-null  float64       \n",
            " 6   CustomerID   540455 non-null  object        \n",
            " 7   Country      540455 non-null  object        \n",
            "dtypes: datetime64[ns](1), float64(1), int64(1), object(5)\n",
            "memory usage: 37.1+ MB\n"
          ],
          "name": "stdout"
        }
      ]
    },
    {
      "cell_type": "markdown",
      "metadata": {
        "id": "WYdS_tGco_SE"
      },
      "source": [
        "*  Top 10 Countries with most sold products\r\n",
        "\r\n"
      ]
    },
    {
      "cell_type": "code",
      "metadata": {
        "id": "LPTOI8RZG14p"
      },
      "source": [
        "df_country = data.groupby('Country', as_index= False).agg({'InvoiceNo': pd.Series.count, 'Quantity': pd.Series.sum,\r\n",
        "                                                   'UnitPrice': pd.Series.mean}).sort_values(by= 'InvoiceNo', ascending=False) \r\n",
        "df.head(10)"
      ],
      "execution_count": null,
      "outputs": []
    },
    {
      "cell_type": "code",
      "metadata": {
        "colab": {
          "base_uri": "https://localhost:8080/",
          "height": 402
        },
        "id": "mq2jx0PBRj1R",
        "outputId": "50cc8c51-a9ab-44a8-bc0f-d8f40b86eee0"
      },
      "source": [
        "df = data.groupby('Description', as_index= False).agg({'Quantity': pd.Series.sum}).sort_values(by= 'Quantity', ascending=False) \r\n",
        "#Plotting the top 10 products\r\n",
        "plt.figure(figsize=(8,6))\r\n",
        "sns.barplot(x= 'Quantity', y= 'Description', data = df.head(10), palette = 'Purples')\r\n",
        "plt.title('Top 10 Most Sold Products')\r\n",
        "plt.show()"
      ],
      "execution_count": null,
      "outputs": [
        {
          "output_type": "display_data",
          "data": {
            "image/png": "[encoded data removed]",
            "text/plain": [
              "<Figure size 576x432 with 1 Axes>"
            ]
          },
          "metadata": {
            "tags": [],
            "needs_background": "light"
          }
        }
      ]
    },
    {
      "cell_type": "markdown",
      "metadata": {
        "id": "sBZW7SBZ90WA"
      },
      "source": [
        "*  Top 10 Countries with the highest volume of invoices"
      ]
    },
    {
      "cell_type": "code",
      "metadata": {
        "id": "4LNu6MLJ9oPf"
      },
      "source": [
        "df_country = data.groupby('Country', as_index= False).agg({'InvoiceNo': pd.Series.count, 'Quantity': pd.Series.sum,\r\n",
        "                                                   'UnitPrice': pd.Series.mean}).sort_values(by= 'InvoiceNo', ascending=False) \r\n"
      ],
      "execution_count": null,
      "outputs": []
    },
    {
      "cell_type": "code",
      "metadata": {
        "colab": {
          "base_uri": "https://localhost:8080/",
          "height": 196
        },
        "id": "ReDZKtuV6ZQJ",
        "outputId": "21e6375c-11ca-4aeb-c479-21c915f09209"
      },
      "source": [
        "pip install pycountry\r\n",
        "import pycountry \r\n",
        "def alpha3code(column):\r\n",
        "    CODE=[]\r\n",
        "    for country in column:\r\n",
        "        try:\r\n",
        "            code=pycountry.countries.get(name=country).alpha_3\r\n",
        "           # .alpha_3 means 3-letter country code \r\n",
        "           # .alpha_2 means 2-letter country code\r\n",
        "            CODE.append(code)\r\n",
        "        except:\r\n",
        "            CODE.append('None')\r\n",
        "    return CODE\r\n",
        "# create a column for code \r\n",
        "df_country['CODE']=alpha3code(df_country.Country)\r\n",
        "df_country.head()"
      ],
      "execution_count": null,
      "outputs": [
        {
          "output_type": "execute_result",
          "data": {
            "text/html": [
              "<div>\n",
              "<style scoped>\n",
              "    .dataframe tbody tr th:only-of-type {\n",
              "        vertical-align: middle;\n",
              "    }\n",
              "\n",
              "    .dataframe tbody tr th {\n",
              "        vertical-align: top;\n",
              "    }\n",
              "\n",
              "    .dataframe thead th {\n",
              "        text-align: right;\n",
              "    }\n",
              "</style>\n",
              "<table border=\"1\" class=\"dataframe\">\n",
              "  <thead>\n",
              "    <tr style=\"text-align: right;\">\n",
              "      <th></th>\n",
              "      <th>Country</th>\n",
              "      <th>InvoiceNo</th>\n",
              "      <th>Quantity</th>\n",
              "      <th>UnitPrice</th>\n",
              "      <th>CODE</th>\n",
              "    </tr>\n",
              "  </thead>\n",
              "  <tbody>\n",
              "    <tr>\n",
              "      <th>36</th>\n",
              "      <td>United Kingdom</td>\n",
              "      <td>494024</td>\n",
              "      <td>4277438</td>\n",
              "      <td>4.545762</td>\n",
              "      <td>GBR</td>\n",
              "    </tr>\n",
              "    <tr>\n",
              "      <th>13</th>\n",
              "      <td>Germany</td>\n",
              "      <td>9495</td>\n",
              "      <td>117448</td>\n",
              "      <td>3.966930</td>\n",
              "      <td>DEU</td>\n",
              "    </tr>\n",
              "    <tr>\n",
              "      <th>12</th>\n",
              "      <td>France</td>\n",
              "      <td>8557</td>\n",
              "      <td>110480</td>\n",
              "      <td>5.028864</td>\n",
              "      <td>FRA</td>\n",
              "    </tr>\n",
              "    <tr>\n",
              "      <th>17</th>\n",
              "      <td>Ireland</td>\n",
              "      <td>8196</td>\n",
              "      <td>142637</td>\n",
              "      <td>5.911077</td>\n",
              "      <td>IRL</td>\n",
              "    </tr>\n",
              "    <tr>\n",
              "      <th>31</th>\n",
              "      <td>Spain</td>\n",
              "      <td>2533</td>\n",
              "      <td>26824</td>\n",
              "      <td>4.987544</td>\n",
              "      <td>ESP</td>\n",
              "    </tr>\n",
              "  </tbody>\n",
              "</table>\n",
              "</div>"
            ],
            "text/plain": [
              "           Country  InvoiceNo  Quantity  UnitPrice CODE\n",
              "36  United Kingdom     494024   4277438   4.545762  GBR\n",
              "13         Germany       9495    117448   3.966930  DEU\n",
              "12          France       8557    110480   5.028864  FRA\n",
              "17         Ireland       8196    142637   5.911077  IRL\n",
              "31           Spain       2533     26824   4.987544  ESP"
            ]
          },
          "metadata": {
            "tags": []
          },
          "execution_count": 79
        }
      ]
    },
    {
      "cell_type": "code",
      "metadata": {
        "colab": {
          "base_uri": "https://localhost:8080/",
          "height": 542
        },
        "id": "njon5S59zaeS",
        "outputId": "6fa68665-ce90-4fae-f425-b07343342f33"
      },
      "source": [
        "import plotly.express as px\r\n",
        "fig = px.scatter_geo(df_country.head(10), locations=\"CODE\", color=\"Country\",\r\n",
        "                     hover_name=\"Country\", size=\"InvoiceNo\",\r\n",
        "                     projection=\"natural earth\",\r\n",
        "                     title = 'Top 10 Countries with the Highest Volume of Purchases')\r\n",
        "fig.show()"
      ],
      "execution_count": null,
      "outputs": [
        {
          "output_type": "display_data",
          "data": {
            "text/html": [
              "<html>\n",
              "<head><meta charset=\"utf-8\" /></head>\n",
              "<body>\n",
              "    <div>\n",
              "            <script src=\"https://cdnjs.cloudflare.com/ajax/libs/mathjax/2.7.5/MathJax.js?config=TeX-AMS-MML_SVG\"></script><script type=\"text/javascript\">if (window.MathJax) {MathJax.Hub.Config({SVG: {font: \"STIX-Web\"}});}</script>\n",
              "                <script type=\"text/javascript\">window.PlotlyConfig = {MathJaxConfig: 'local'};</script>\n",
              "        <script src=\"https://cdn.plot.ly/plotly-latest.min.js\"></script>    \n",
              "            <div id=\"a9574246-d7ec-4859-8ff5-2a76f6602faf\" class=\"plotly-graph-div\" style=\"height:525px; width:100%;\"></div>\n",
              "            <script type=\"text/javascript\">\n",
              "                \n",
              "                    window.PLOTLYENV=window.PLOTLYENV || {};\n",
              "                    \n",
              "                if (document.getElementById(\"a9574246-d7ec-4859-8ff5-2a76f6602faf\")) {\n",
              "                    Plotly.newPlot(\n",
              "                        'a9574246-d7ec-4859-8ff5-2a76f6602faf',\n",
              "                        [{\"geo\": \"geo\", \"hoverlabel\": {\"namelength\": 0}, \"hovertemplate\": \"<b>%{hovertext}</b><br><br>Country=United Kingdom<br>InvoiceNo=%{marker.size}<br>CODE=%{location}\", \"hovertext\": [\"United Kingdom\"], \"legendgroup\": \"Country=United Kingdom\", \"locations\": [\"GBR\"], \"marker\": {\"color\": \"#636efa\", \"size\": [494024], \"sizemode\": \"area\", \"sizeref\": 1235.06}, \"name\": \"Country=United Kingdom\", \"showlegend\": true, \"type\": \"scattergeo\"}, {\"geo\": \"geo\", \"hoverlabel\": {\"namelength\": 0}, \"hovertemplate\": \"<b>%{hovertext}</b><br><br>Country=Germany<br>InvoiceNo=%{marker.size}<br>CODE=%{location}\", \"hovertext\": [\"Germany\"], \"legendgroup\": \"Country=Germany\", \"locations\": [\"DEU\"], \"marker\": {\"color\": \"#EF553B\", \"size\": [9495], \"sizemode\": \"area\", \"sizeref\": 1235.06}, \"name\": \"Country=Germany\", \"showlegend\": true, \"type\": \"scattergeo\"}, {\"geo\": \"geo\", \"hoverlabel\": {\"namelength\": 0}, \"hovertemplate\": \"<b>%{hovertext}</b><br><br>Country=France<br>InvoiceNo=%{marker.size}<br>CODE=%{location}\", \"hovertext\": [\"France\"], \"legendgroup\": \"Country=France\", \"locations\": [\"FRA\"], \"marker\": {\"color\": \"#00cc96\", \"size\": [8557], \"sizemode\": \"area\", \"sizeref\": 1235.06}, \"name\": \"Country=France\", \"showlegend\": true, \"type\": \"scattergeo\"}, {\"geo\": \"geo\", \"hoverlabel\": {\"namelength\": 0}, \"hovertemplate\": \"<b>%{hovertext}</b><br><br>Country=Ireland<br>InvoiceNo=%{marker.size}<br>CODE=%{location}\", \"hovertext\": [\"Ireland\"], \"legendgroup\": \"Country=Ireland\", \"locations\": [\"IRL\"], \"marker\": {\"color\": \"#ab63fa\", \"size\": [8196], \"sizemode\": \"area\", \"sizeref\": 1235.06}, \"name\": \"Country=Ireland\", \"showlegend\": true, \"type\": \"scattergeo\"}, {\"geo\": \"geo\", \"hoverlabel\": {\"namelength\": 0}, \"hovertemplate\": \"<b>%{hovertext}</b><br><br>Country=Spain<br>InvoiceNo=%{marker.size}<br>CODE=%{location}\", \"hovertext\": [\"Spain\"], \"legendgroup\": \"Country=Spain\", \"locations\": [\"ESP\"], \"marker\": {\"color\": \"#FFA15A\", \"size\": [2533], \"sizemode\": \"area\", \"sizeref\": 1235.06}, \"name\": \"Country=Spain\", \"showlegend\": true, \"type\": \"scattergeo\"}, {\"geo\": \"geo\", \"hoverlabel\": {\"namelength\": 0}, \"hovertemplate\": \"<b>%{hovertext}</b><br><br>Country=Netherlands<br>InvoiceNo=%{marker.size}<br>CODE=%{location}\", \"hovertext\": [\"Netherlands\"], \"legendgroup\": \"Country=Netherlands\", \"locations\": [\"NLD\"], \"marker\": {\"color\": \"#19d3f3\", \"size\": [2371], \"sizemode\": \"area\", \"sizeref\": 1235.06}, \"name\": \"Country=Netherlands\", \"showlegend\": true, \"type\": \"scattergeo\"}, {\"geo\": \"geo\", \"hoverlabel\": {\"namelength\": 0}, \"hovertemplate\": \"<b>%{hovertext}</b><br><br>Country=Belgium<br>InvoiceNo=%{marker.size}<br>CODE=%{location}\", \"hovertext\": [\"Belgium\"], \"legendgroup\": \"Country=Belgium\", \"locations\": [\"BEL\"], \"marker\": {\"color\": \"#FF6692\", \"size\": [2069], \"sizemode\": \"area\", \"sizeref\": 1235.06}, \"name\": \"Country=Belgium\", \"showlegend\": true, \"type\": \"scattergeo\"}, {\"geo\": \"geo\", \"hoverlabel\": {\"namelength\": 0}, \"hovertemplate\": \"<b>%{hovertext}</b><br><br>Country=Switzerland<br>InvoiceNo=%{marker.size}<br>CODE=%{location}\", \"hovertext\": [\"Switzerland\"], \"legendgroup\": \"Country=Switzerland\", \"locations\": [\"CHE\"], \"marker\": {\"color\": \"#B6E880\", \"size\": [2002], \"sizemode\": \"area\", \"sizeref\": 1235.06}, \"name\": \"Country=Switzerland\", \"showlegend\": true, \"type\": \"scattergeo\"}, {\"geo\": \"geo\", \"hoverlabel\": {\"namelength\": 0}, \"hovertemplate\": \"<b>%{hovertext}</b><br><br>Country=Portugal<br>InvoiceNo=%{marker.size}<br>CODE=%{location}\", \"hovertext\": [\"Portugal\"], \"legendgroup\": \"Country=Portugal\", \"locations\": [\"PRT\"], \"marker\": {\"color\": \"#FF97FF\", \"size\": [1519], \"sizemode\": \"area\", \"sizeref\": 1235.06}, \"name\": \"Country=Portugal\", \"showlegend\": true, \"type\": \"scattergeo\"}, {\"geo\": \"geo\", \"hoverlabel\": {\"namelength\": 0}, \"hovertemplate\": \"<b>%{hovertext}</b><br><br>Country=Australia<br>InvoiceNo=%{marker.size}<br>CODE=%{location}\", \"hovertext\": [\"Australia\"], \"legendgroup\": \"Country=Australia\", \"locations\": [\"AUS\"], \"marker\": {\"color\": \"#FECB52\", \"size\": [1259], \"sizemode\": \"area\", \"sizeref\": 1235.06}, \"name\": \"Country=Australia\", \"showlegend\": true, \"type\": \"scattergeo\"}],\n",
              "                        {\"geo\": {\"center\": {}, \"domain\": {\"x\": [0.0, 1.0], \"y\": [0.0, 1.0]}, \"projection\": {\"type\": \"natural earth\"}}, \"legend\": {\"itemsizing\": \"constant\", \"tracegroupgap\": 0}, \"template\": {\"data\": {\"bar\": [{\"error_x\": {\"color\": \"#2a3f5f\"}, \"error_y\": {\"color\": \"#2a3f5f\"}, \"marker\": {\"line\": {\"color\": \"#E5ECF6\", \"width\": 0.5}}, \"type\": \"bar\"}], \"barpolar\": [{\"marker\": {\"line\": {\"color\": \"#E5ECF6\", \"width\": 0.5}}, \"type\": \"barpolar\"}], \"carpet\": [{\"aaxis\": {\"endlinecolor\": \"#2a3f5f\", \"gridcolor\": \"white\", \"linecolor\": \"white\", \"minorgridcolor\": \"white\", \"startlinecolor\": \"#2a3f5f\"}, \"baxis\": {\"endlinecolor\": \"#2a3f5f\", \"gridcolor\": \"white\", \"linecolor\": \"white\", \"minorgridcolor\": \"white\", \"startlinecolor\": \"#2a3f5f\"}, \"type\": \"carpet\"}], \"choropleth\": [{\"colorbar\": {\"outlinewidth\": 0, \"ticks\": \"\"}, \"type\": \"choropleth\"}], \"contour\": [{\"colorbar\": {\"outlinewidth\": 0, \"ticks\": \"\"}, \"colorscale\": [[0.0, \"#0d0887\"], [0.1111111111111111, \"#46039f\"], [0.2222222222222222, \"#7201a8\"], [0.3333333333333333, \"#9c179e\"], [0.4444444444444444, \"#bd3786\"], [0.5555555555555556, \"#d8576b\"], [0.6666666666666666, \"#ed7953\"], [0.7777777777777778, \"#fb9f3a\"], [0.8888888888888888, \"#fdca26\"], [1.0, \"#f0f921\"]], \"type\": \"contour\"}], \"contourcarpet\": [{\"colorbar\": {\"outlinewidth\": 0, \"ticks\": \"\"}, \"type\": \"contourcarpet\"}], \"heatmap\": [{\"colorbar\": {\"outlinewidth\": 0, \"ticks\": \"\"}, \"colorscale\": [[0.0, \"#0d0887\"], [0.1111111111111111, \"#46039f\"], [0.2222222222222222, \"#7201a8\"], [0.3333333333333333, \"#9c179e\"], [0.4444444444444444, \"#bd3786\"], [0.5555555555555556, \"#d8576b\"], [0.6666666666666666, \"#ed7953\"], [0.7777777777777778, \"#fb9f3a\"], [0.8888888888888888, \"#fdca26\"], [1.0, \"#f0f921\"]], \"type\": \"heatmap\"}], \"heatmapgl\": [{\"colorbar\": {\"outlinewidth\": 0, \"ticks\": \"\"}, \"colorscale\": [[0.0, \"#0d0887\"], [0.1111111111111111, \"#46039f\"], [0.2222222222222222, \"#7201a8\"], [0.3333333333333333, \"#9c179e\"], [0.4444444444444444, \"#bd3786\"], [0.5555555555555556, \"#d8576b\"], [0.6666666666666666, \"#ed7953\"], [0.7777777777777778, \"#fb9f3a\"], [0.8888888888888888, \"#fdca26\"], [1.0, \"#f0f921\"]], \"type\": \"heatmapgl\"}], \"histogram\": [{\"marker\": {\"colorbar\": {\"outlinewidth\": 0, \"ticks\": \"\"}}, \"type\": \"histogram\"}], \"histogram2d\": [{\"colorbar\": {\"outlinewidth\": 0, \"ticks\": \"\"}, \"colorscale\": [[0.0, \"#0d0887\"], [0.1111111111111111, \"#46039f\"], [0.2222222222222222, \"#7201a8\"], [0.3333333333333333, \"#9c179e\"], [0.4444444444444444, \"#bd3786\"], [0.5555555555555556, \"#d8576b\"], [0.6666666666666666, \"#ed7953\"], [0.7777777777777778, \"#fb9f3a\"], [0.8888888888888888, \"#fdca26\"], [1.0, \"#f0f921\"]], \"type\": \"histogram2d\"}], \"histogram2dcontour\": [{\"colorbar\": {\"outlinewidth\": 0, \"ticks\": \"\"}, \"colorscale\": [[0.0, \"#0d0887\"], [0.1111111111111111, \"#46039f\"], [0.2222222222222222, \"#7201a8\"], [0.3333333333333333, \"#9c179e\"], [0.4444444444444444, \"#bd3786\"], [0.5555555555555556, \"#d8576b\"], [0.6666666666666666, \"#ed7953\"], [0.7777777777777778, \"#fb9f3a\"], [0.8888888888888888, \"#fdca26\"], [1.0, \"#f0f921\"]], \"type\": \"histogram2dcontour\"}], \"mesh3d\": [{\"colorbar\": {\"outlinewidth\": 0, \"ticks\": \"\"}, \"type\": \"mesh3d\"}], \"parcoords\": [{\"line\": {\"colorbar\": {\"outlinewidth\": 0, \"ticks\": \"\"}}, \"type\": \"parcoords\"}], \"pie\": [{\"automargin\": true, \"type\": \"pie\"}], \"scatter\": [{\"marker\": {\"colorbar\": {\"outlinewidth\": 0, \"ticks\": \"\"}}, \"type\": \"scatter\"}], \"scatter3d\": [{\"line\": {\"colorbar\": {\"outlinewidth\": 0, \"ticks\": \"\"}}, \"marker\": {\"colorbar\": {\"outlinewidth\": 0, \"ticks\": \"\"}}, \"type\": \"scatter3d\"}], \"scattercarpet\": [{\"marker\": {\"colorbar\": {\"outlinewidth\": 0, \"ticks\": \"\"}}, \"type\": \"scattercarpet\"}], \"scattergeo\": [{\"marker\": {\"colorbar\": {\"outlinewidth\": 0, \"ticks\": \"\"}}, \"type\": \"scattergeo\"}], \"scattergl\": [{\"marker\": {\"colorbar\": {\"outlinewidth\": 0, \"ticks\": \"\"}}, \"type\": \"scattergl\"}], \"scattermapbox\": [{\"marker\": {\"colorbar\": {\"outlinewidth\": 0, \"ticks\": \"\"}}, \"type\": \"scattermapbox\"}], \"scatterpolar\": [{\"marker\": {\"colorbar\": {\"outlinewidth\": 0, \"ticks\": \"\"}}, \"type\": \"scatterpolar\"}], \"scatterpolargl\": [{\"marker\": {\"colorbar\": {\"outlinewidth\": 0, \"ticks\": \"\"}}, \"type\": \"scatterpolargl\"}], \"scatterternary\": [{\"marker\": {\"colorbar\": {\"outlinewidth\": 0, \"ticks\": \"\"}}, \"type\": \"scatterternary\"}], \"surface\": [{\"colorbar\": {\"outlinewidth\": 0, \"ticks\": \"\"}, \"colorscale\": [[0.0, \"#0d0887\"], [0.1111111111111111, \"#46039f\"], [0.2222222222222222, \"#7201a8\"], [0.3333333333333333, \"#9c179e\"], [0.4444444444444444, \"#bd3786\"], [0.5555555555555556, \"#d8576b\"], [0.6666666666666666, \"#ed7953\"], [0.7777777777777778, \"#fb9f3a\"], [0.8888888888888888, \"#fdca26\"], [1.0, \"#f0f921\"]], \"type\": \"surface\"}], \"table\": [{\"cells\": {\"fill\": {\"color\": \"#EBF0F8\"}, \"line\": {\"color\": \"white\"}}, \"header\": {\"fill\": {\"color\": \"#C8D4E3\"}, \"line\": {\"color\": \"white\"}}, \"type\": \"table\"}]}, \"layout\": {\"annotationdefaults\": {\"arrowcolor\": \"#2a3f5f\", \"arrowhead\": 0, \"arrowwidth\": 1}, \"coloraxis\": {\"colorbar\": {\"outlinewidth\": 0, \"ticks\": \"\"}}, \"colorscale\": {\"diverging\": [[0, \"#8e0152\"], [0.1, \"#c51b7d\"], [0.2, \"#de77ae\"], [0.3, \"#f1b6da\"], [0.4, \"#fde0ef\"], [0.5, \"#f7f7f7\"], [0.6, \"#e6f5d0\"], [0.7, \"#b8e186\"], [0.8, \"#7fbc41\"], [0.9, \"#4d9221\"], [1, \"#276419\"]], \"sequential\": [[0.0, \"#0d0887\"], [0.1111111111111111, \"#46039f\"], [0.2222222222222222, \"#7201a8\"], [0.3333333333333333, \"#9c179e\"], [0.4444444444444444, \"#bd3786\"], [0.5555555555555556, \"#d8576b\"], [0.6666666666666666, \"#ed7953\"], [0.7777777777777778, \"#fb9f3a\"], [0.8888888888888888, \"#fdca26\"], [1.0, \"#f0f921\"]], \"sequentialminus\": [[0.0, \"#0d0887\"], [0.1111111111111111, \"#46039f\"], [0.2222222222222222, \"#7201a8\"], [0.3333333333333333, \"#9c179e\"], [0.4444444444444444, \"#bd3786\"], [0.5555555555555556, \"#d8576b\"], [0.6666666666666666, \"#ed7953\"], [0.7777777777777778, \"#fb9f3a\"], [0.8888888888888888, \"#fdca26\"], [1.0, \"#f0f921\"]]}, \"colorway\": [\"#636efa\", \"#EF553B\", \"#00cc96\", \"#ab63fa\", \"#FFA15A\", \"#19d3f3\", \"#FF6692\", \"#B6E880\", \"#FF97FF\", \"#FECB52\"], \"font\": {\"color\": \"#2a3f5f\"}, \"geo\": {\"bgcolor\": \"white\", \"lakecolor\": \"white\", \"landcolor\": \"#E5ECF6\", \"showlakes\": true, \"showland\": true, \"subunitcolor\": \"white\"}, \"hoverlabel\": {\"align\": \"left\"}, \"hovermode\": \"closest\", \"mapbox\": {\"style\": \"light\"}, \"paper_bgcolor\": \"white\", \"plot_bgcolor\": \"#E5ECF6\", \"polar\": {\"angularaxis\": {\"gridcolor\": \"white\", \"linecolor\": \"white\", \"ticks\": \"\"}, \"bgcolor\": \"#E5ECF6\", \"radialaxis\": {\"gridcolor\": \"white\", \"linecolor\": \"white\", \"ticks\": \"\"}}, \"scene\": {\"xaxis\": {\"backgroundcolor\": \"#E5ECF6\", \"gridcolor\": \"white\", \"gridwidth\": 2, \"linecolor\": \"white\", \"showbackground\": true, \"ticks\": \"\", \"zerolinecolor\": \"white\"}, \"yaxis\": {\"backgroundcolor\": \"#E5ECF6\", \"gridcolor\": \"white\", \"gridwidth\": 2, \"linecolor\": \"white\", \"showbackground\": true, \"ticks\": \"\", \"zerolinecolor\": \"white\"}, \"zaxis\": {\"backgroundcolor\": \"#E5ECF6\", \"gridcolor\": \"white\", \"gridwidth\": 2, \"linecolor\": \"white\", \"showbackground\": true, \"ticks\": \"\", \"zerolinecolor\": \"white\"}}, \"shapedefaults\": {\"line\": {\"color\": \"#2a3f5f\"}}, \"ternary\": {\"aaxis\": {\"gridcolor\": \"white\", \"linecolor\": \"white\", \"ticks\": \"\"}, \"baxis\": {\"gridcolor\": \"white\", \"linecolor\": \"white\", \"ticks\": \"\"}, \"bgcolor\": \"#E5ECF6\", \"caxis\": {\"gridcolor\": \"white\", \"linecolor\": \"white\", \"ticks\": \"\"}}, \"title\": {\"x\": 0.05}, \"xaxis\": {\"automargin\": true, \"gridcolor\": \"white\", \"linecolor\": \"white\", \"ticks\": \"\", \"title\": {\"standoff\": 15}, \"zerolinecolor\": \"white\", \"zerolinewidth\": 2}, \"yaxis\": {\"automargin\": true, \"gridcolor\": \"white\", \"linecolor\": \"white\", \"ticks\": \"\", \"title\": {\"standoff\": 15}, \"zerolinecolor\": \"white\", \"zerolinewidth\": 2}}}, \"title\": {\"text\": \"Top 10 Countries with the Highest Volume of Purchases\"}},\n",
              "                        {\"responsive\": true}\n",
              "                    ).then(function(){\n",
              "                            \n",
              "var gd = document.getElementById('a9574246-d7ec-4859-8ff5-2a76f6602faf');\n",
              "var x = new MutationObserver(function (mutations, observer) {{\n",
              "        var display = window.getComputedStyle(gd).display;\n",
              "        if (!display || display === 'none') {{\n",
              "            console.log([gd, 'removed!']);\n",
              "            Plotly.purge(gd);\n",
              "            observer.disconnect();\n",
              "        }}\n",
              "}});\n",
              "\n",
              "// Listen for the removal of the full notebook cells\n",
              "var notebookContainer = gd.closest('#notebook-container');\n",
              "if (notebookContainer) {{\n",
              "    x.observe(notebookContainer, {childList: true});\n",
              "}}\n",
              "\n",
              "// Listen for the clearing of the current output cell\n",
              "var outputEl = gd.closest('.output');\n",
              "if (outputEl) {{\n",
              "    x.observe(outputEl, {childList: true});\n",
              "}}\n",
              "\n",
              "                        })\n",
              "                };\n",
              "                \n",
              "            </script>\n",
              "        </div>\n",
              "</body>\n",
              "</html>"
            ]
          },
          "metadata": {
            "tags": []
          }
        }
      ]
    },
    {
      "cell_type": "markdown",
      "metadata": {
        "id": "fsFNbWXD-G0j"
      },
      "source": [
        "## **Cohort Analysis**"
      ]
    },
    {
      "cell_type": "code",
      "metadata": {
        "id": "mebVJeF8-OXh"
      },
      "source": [
        "# Create a copy of rfm_train dataframe for cohort analysis\r\n",
        "cohort = data.copy()"
      ],
      "execution_count": null,
      "outputs": []
    },
    {
      "cell_type": "code",
      "metadata": {
        "id": "B7q0YDdHA3zC"
      },
      "source": [
        "# Define a function that will parse the date\r\n",
        "def get_month(x):\r\n",
        "    return dt.datetime(x.year,x.month,1) \r\n",
        "\r\n",
        "# Create InvoiceMonth column\r\n",
        "cohort['InvoiceMonth'] = cohort['InvoiceDate'].apply(get_month) \r\n",
        "\r\n",
        "# Group by CustomerID and select the InvoiceMonth value\r\n",
        "grouping = cohort.groupby('CustomerID')['InvoiceMonth'] \r\n",
        "\r\n",
        "# Assign a minimum InvoiceMonth value to the dataset\r\n",
        "cohort['CohortMonth'] = grouping.transform('min')"
      ],
      "execution_count": null,
      "outputs": []
    },
    {
      "cell_type": "code",
      "metadata": {
        "id": "FghHsVekBJTx"
      },
      "source": [
        "def get_date_int(df, column):\r\n",
        "    year = df[column].dt.year\r\n",
        "    month = df[column].dt.month\r\n",
        "    return year, month"
      ],
      "execution_count": null,
      "outputs": []
    },
    {
      "cell_type": "code",
      "metadata": {
        "id": "WTjTVMa9BN09"
      },
      "source": [
        "# Get the integers for date parts from the `InvoiceMonth` column\r\n",
        "invoice_year, invoice_month = get_date_int(cohort,'InvoiceMonth')\r\n",
        "\r\n",
        "# Get the integers for date parts from the `CohortMonth` column\r\n",
        "cohort_year, cohort_month = get_date_int(cohort,'CohortMonth')"
      ],
      "execution_count": null,
      "outputs": []
    },
    {
      "cell_type": "code",
      "metadata": {
        "id": "Dl_XBTPeBTZ4"
      },
      "source": [
        "# Calculate difference in years\r\n",
        "years_diff = invoice_year - cohort_year\r\n",
        "\r\n",
        "# Calculate difference in months\r\n",
        "months_diff = invoice_month - cohort_month\r\n",
        "\r\n",
        "# Extract the difference in months from all previous values\r\n",
        "cohort['CohortIndex'] = years_diff * 12 + months_diff + 1"
      ],
      "execution_count": null,
      "outputs": []
    },
    {
      "cell_type": "code",
      "metadata": {
        "id": "UqULytIeBVNN"
      },
      "source": [
        "cohort.head(2)"
      ],
      "execution_count": null,
      "outputs": []
    },
    {
      "cell_type": "code",
      "metadata": {
        "id": "JVxgkfLkByuF"
      },
      "source": [
        "grouping = cohort.groupby(['CohortMonth', 'CohortIndex'])"
      ],
      "execution_count": null,
      "outputs": []
    },
    {
      "cell_type": "code",
      "metadata": {
        "id": "Ie0N-30tB4Au"
      },
      "source": [
        "# Count the number of unique values per customer ID\r\n",
        "cohort_data = grouping['CustomerID'].apply(pd.Series.nunique).reset_index()\r\n",
        "\r\n",
        "# Create a pivot \r\n",
        "cohort_counts = cohort_data.pivot(index='CohortMonth', columns='CohortIndex', values='CustomerID')\r\n",
        "\r\n",
        "# Select the first column and store it to cohort_sizes\r\n",
        "cohort_sizes = cohort_counts.iloc[:,0]\r\n",
        "\r\n",
        "# Divide the cohort count by cohort sizes along the rows\r\n",
        "retention = cohort_counts.divide(cohort_sizes, axis=0)*100"
      ],
      "execution_count": null,
      "outputs": []
    },
    {
      "cell_type": "code",
      "metadata": {
        "colab": {
          "base_uri": "https://localhost:8080/",
          "height": 457
        },
        "id": "ANIglySzB-Fl",
        "outputId": "61420ed6-2e67-40bc-8820-ef58186d8416"
      },
      "source": [
        "month_list = [\"Dec '10\", \"Jan '11\", \"Feb '11\", \"Mar '11\", \"Apr '11\",\\\r\n",
        "              \"May '11\", \"Jun '11\", \"Jul '11\", \"Aug '11\", \"Sep '11\", \\\r\n",
        "              \"Oct '11\", \"Nov '11\", \"Dec '11\"]\r\n",
        "\r\n",
        "# Initialize inches plot figure\r\n",
        "plt.figure(figsize=(15,7))\r\n",
        "\r\n",
        "# Add a title\r\n",
        "plt.title('Retention by Monthly Cohorts')\r\n",
        "\r\n",
        "# Create the heatmap\r\n",
        "sns.heatmap(data=retention,\r\n",
        "            annot = True,\r\n",
        "            cmap = \"Purples\",\r\n",
        "            vmin = 0.0,\r\n",
        "#             vmax = 0.5,\r\n",
        "            vmax = list(retention.max().sort_values(ascending = False))[1]+3,\r\n",
        "            fmt = '.0f',\r\n",
        "            linewidth = 0.3,\r\n",
        "            yticklabels=month_list)\r\n",
        "\r\n",
        "\r\n",
        "plt.show();"
      ],
      "execution_count": null,
      "outputs": [
        {
          "output_type": "display_data",
          "data": {
            "image/png": "[encoded data removed]",
            "text/plain": [
              "<Figure size 1080x504 with 2 Axes>"
            ]
          },
          "metadata": {
            "tags": [],
            "needs_background": "light"
          }
        }
      ]
    }
  ]
}